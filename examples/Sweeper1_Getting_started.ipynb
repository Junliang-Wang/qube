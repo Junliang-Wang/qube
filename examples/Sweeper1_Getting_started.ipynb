{
 "cells": [
  {
   "cell_type": "markdown",
   "id": "1c4a97ad",
   "metadata": {},
   "source": [
    "# Tutorial about Sweeper\n",
    "\n",
    "In this tutorial, you will learn how to:\n",
    "- make a simple sweep\n",
    "- load data from a sweep\n",
    "- types of sweep instructions\n",
    "- make a multi-dimensional sweep\n",
    "- make a parallel sweep\n",
    "- define initial and final configurations\n",
    "- add custom pre/post processes\n",
    "- add custom pre/post readout processes\n",
    "- usability examples\n",
    "\n",
    "Furthermore, this tutorial includes a breakdown of the Sweeper class for more complex measurements."
   ]
  },
  {
   "cell_type": "markdown",
   "id": "d4e822bc",
   "metadata": {},
   "source": [
    "## Basic imports"
   ]
  },
  {
   "cell_type": "code",
   "execution_count": 1,
   "id": "ac7cc0af",
   "metadata": {},
   "outputs": [
    {
     "name": "stdout",
     "output_type": "stream",
     "text": [
      "Logging hadn't been started.\n",
      "Activating auto-logging. Current session state plus future input saved.\n",
      "Filename       : C:\\Users\\manip.batm\\.qcodes\\logs\\command_history.log\n",
      "Mode           : append\n",
      "Output logging : True\n",
      "Raw input log  : False\n",
      "Timestamping   : True\n",
      "State          : active\n",
      "Qcodes Logfile : C:\\Users\\manip.batm\\.qcodes\\logs\\221125-9476-qcodes.log\n"
     ]
    }
   ],
   "source": [
    "import sys, os\n",
    "import tempfile\n",
    "import numpy as np\n",
    "import matplotlib.pyplot as plt\n",
    "from qcodes import Parameter, DelegateParameter, initialise_or_create_database_at, load_or_create_experiment, load_by_id\n",
    "\n",
    "# Let's create a dummy qcodes database\n",
    "db_path = os.path.join(tempfile.gettempdir(),'test.db')\n",
    "initialise_or_create_database_at(db_path)\n",
    "experiment = load_or_create_experiment(experiment_name='test',sample_name='no sample')"
   ]
  },
  {
   "cell_type": "markdown",
   "id": "faf91b3d",
   "metadata": {},
   "source": [
    "## Simple sweep"
   ]
  },
  {
   "cell_type": "code",
   "execution_count": 2,
   "id": "b0fc35fc",
   "metadata": {},
   "outputs": [],
   "source": [
    "# Let's create some dummy parameters\n",
    "from qcodes.validators import Numbers, Bool\n",
    "\n",
    "x1 = Parameter('x1', unit='V', set_cmd=None, get_cmd=None, initial_value=0) \n",
    "x2 = Parameter('x2', unit='V', set_cmd=None, get_cmd=None, initial_value=0, vals=Numbers(-2, 2)) # with safety limits\n",
    "\n",
    "y1 = Parameter('y1', unit='nA', set_cmd=None, get_cmd=lambda: 0) # always returns 0\n",
    "y2 = Parameter('y2', unit='pA', set_cmd=None, get_cmd=np.random.random) # random number"
   ]
  },
  {
   "cell_type": "code",
   "execution_count": 3,
   "id": "4b7624c0",
   "metadata": {},
   "outputs": [
    {
     "name": "stdout",
     "output_type": "stream",
     "text": [
      "Starting experimental run with id: 159. \n",
      "The measurement will take 0:00:03.337221\n"
     ]
    },
    {
     "data": {
      "application/vnd.jupyter.widget-view+json": {
       "model_id": "5fba58dc7e84486889920e8efe73a9bb",
       "version_major": 2,
       "version_minor": 0
      },
      "text/plain": [
       "  0%|          | 0/55 [00:00<?, ?it/s]"
      ]
     },
     "metadata": {},
     "output_type": "display_data"
    }
   ],
   "source": [
    "# Imagine we want to sweep linearly x1 from 0 to -1V with 11pts, and repeat this 5 times. \n",
    "from qube import Sweeper\n",
    "sw = Sweeper()\n",
    "\n",
    "# we add sweep instructions\n",
    "sw.sweep_linear(x1,0,-1,dim=1) # note that we don't need to define the number of points here\n",
    "# Moreover, by convention, sweep dimensions starts with dim=1. \n",
    "# dim=0 is reserved for real-time axis such as AWG waveform ramps.\n",
    "\n",
    "# we set the readouts\n",
    "sw.set_readouts(y1,y2)\n",
    "\n",
    "# we specify the number of points to sweep\n",
    "sw.set_sweep_shape([11,5]) # [dim1 pts, dim2 pts, ...]\n",
    "# Note that in dim=2 we don't have instructions. So, it will be simply a repetition.\n",
    "\n",
    "# we set a waiting time before each readout to slow down this dummy sweep\n",
    "sw.pre_readout_wait = 0.05 # in seconds\n",
    "\n",
    "# we can execute the sweep\n",
    "run_id = sw.execute() # it returns the run_id"
   ]
  },
  {
   "cell_type": "markdown",
   "id": "ec553642",
   "metadata": {},
   "source": [
    "## Load data from a sweep"
   ]
  },
  {
   "cell_type": "code",
   "execution_count": 4,
   "id": "e1fef1fa",
   "metadata": {},
   "outputs": [
    {
     "name": "stdout",
     "output_type": "stream",
     "text": [
      "{'x1': array([ 0. , -0.1, -0.2, -0.3, -0.4, -0.5, -0.6, -0.7, -0.8, -0.9, -1. ])}\n"
     ]
    }
   ],
   "source": [
    "# We can checkout the data in the qcodes database\n",
    "ds = load_by_id(run_id)\n",
    "\n",
    "# We can access for example to the x1 swept values\n",
    "print(ds.get_parameter_data()['x1'])"
   ]
  },
  {
   "cell_type": "code",
   "execution_count": 5,
   "id": "0e0c692e",
   "metadata": {},
   "outputs": [
    {
     "name": "stdout",
     "output_type": "stream",
     "text": [
      "{'y1': array([0., 0., 0., 0., 0., 0., 0., 0., 0., 0., 0., 0., 0., 0., 0., 0., 0.,\n",
      "       0., 0., 0., 0., 0., 0., 0., 0., 0., 0., 0., 0., 0., 0., 0., 0., 0.,\n",
      "       0., 0., 0., 0., 0., 0., 0., 0., 0., 0., 0., 0., 0., 0., 0., 0., 0.,\n",
      "       0., 0., 0., 0.])}\n",
      "{'y2': array([0.83308057, 0.3568504 , 0.89584079, 0.86529821, 0.38165725,\n",
      "       0.98894172, 0.05323251, 0.96056645, 0.94723315, 0.01162523,\n",
      "       0.38148303, 0.23438319, 0.08239313, 0.0685966 , 0.48470968,\n",
      "       0.00134395, 0.92387966, 0.09662723, 0.62930332, 0.58631573,\n",
      "       0.36103508, 0.33380163, 0.58129853, 0.92662235, 0.08525292,\n",
      "       0.94870166, 0.004319  , 0.23109995, 0.1739997 , 0.2564684 ,\n",
      "       0.73142759, 0.84241832, 0.53631401, 0.02083012, 0.75244789,\n",
      "       0.3296243 , 0.27881912, 0.23633295, 0.07686284, 0.70451522,\n",
      "       0.03538699, 0.43884228, 0.27231484, 0.31930112, 0.72320962,\n",
      "       0.56226175, 0.25965653, 0.24299394, 0.55709103, 0.22072269,\n",
      "       0.22646933, 0.9346783 , 0.30552356, 0.46986986, 0.71269641])}\n"
     ]
    }
   ],
   "source": [
    "# Or the readout values of y1 and y2\n",
    "print(ds.get_parameter_data()['y1'])\n",
    "print(ds.get_parameter_data()['y2'])"
   ]
  },
  {
   "cell_type": "code",
   "execution_count": 6,
   "id": "bb6ebcc3",
   "metadata": {},
   "outputs": [
    {
     "name": "stdout",
     "output_type": "stream",
     "text": [
      "Datafile\n",
      "fullpath: None\n",
      "datasets: 2 elements\n",
      "[0] name: y1 - unit: nA - shape: (11, 5)\n",
      "\taxes: 3 elements\n",
      "\t[0] name: x1 - unit: V - shape: (11,) - dim: 0\n",
      "\t[1] name: counter_dim0 - unit: a.u. - shape: (11,) - dim: 0\n",
      "\t[2] name: counter_dim1 - unit: a.u. - shape: (5,) - dim: 1\n",
      "[1] name: y2 - unit: pA - shape: (11, 5)\n",
      "\taxes: 3 elements\n",
      "\t[0] name: x1 - unit: V - shape: (11,) - dim: 0\n",
      "\t[1] name: counter_dim0 - unit: a.u. - shape: (11,) - dim: 0\n",
      "\t[2] name: counter_dim1 - unit: a.u. - shape: (5,) - dim: 1\n"
     ]
    }
   ],
   "source": [
    "# But there is a more convenient way to load all the relevant information in an organized structure\n",
    "from qube import qcodes_to_datafile, run_id_to_datafile\n",
    "\n",
    "# Let's convert the data into a Datafile format with Dataset and Axis\n",
    "df = run_id_to_datafile(run_id)\n",
    "\n",
    "print(df) \n",
    "# As you can see, there are 2 datasets (y1 and y2) where each of them has an axis (x1)."
   ]
  },
  {
   "cell_type": "markdown",
   "id": "4dc8dc55",
   "metadata": {},
   "source": [
    "## Types of sweep instructions\n",
    "There are few pre-determined types:\n",
    "\n",
    "- .sweep_linear(param, init, final, dim)\n",
    "- .sweep_log(param, init, final, dim)\n",
    "- .sweep_step(param, init, step_size, dim)\n",
    "- .sweep_values(param, values, dim)\n",
    "- .sweep_custom(param, f, dim) --> f is a function to generate sweep values with a given number of pts. values = f(pts)"
   ]
  },
  {
   "cell_type": "markdown",
   "id": "26cbb283",
   "metadata": {},
   "source": [
    "## Multi-dimensional sweep\n",
    "\n",
    "Imagine now we want to sweep x1 and x2 in different dimensions. \n",
    "\n",
    "We can simply add another instruction to our sweeper."
   ]
  },
  {
   "cell_type": "code",
   "execution_count": 7,
   "id": "87d35750",
   "metadata": {},
   "outputs": [
    {
     "name": "stdout",
     "output_type": "stream",
     "text": [
      "Starting experimental run with id: 160. \n",
      "The measurement will take 0:00:03.302960\n"
     ]
    },
    {
     "data": {
      "application/vnd.jupyter.widget-view+json": {
       "model_id": "b8e167aaeb3a473aa6d55eb00709e0d8",
       "version_major": 2,
       "version_minor": 0
      },
      "text/plain": [
       "  0%|          | 0/55 [00:00<?, ?it/s]"
      ]
     },
     "metadata": {},
     "output_type": "display_data"
    }
   ],
   "source": [
    "# We can actually reuse the sweeper instance created before.\n",
    "sw.clear_instructions()\n",
    "\n",
    "# we add sweep instructions\n",
    "sw.sweep_linear(x1,0,-1,dim=1)\n",
    "sw.sweep_linear(x2,0,+1,dim=2)\n",
    "\n",
    "# Since it is the same sweeper, we don't need to define again the readouts, the waiting times, etc.\n",
    "# we execute\n",
    "sw.set_sweep_shape([11,5]) # [dim1 pts, dim2 pts, ...]\n",
    "run_id = sw.execute()"
   ]
  },
  {
   "cell_type": "code",
   "execution_count": 8,
   "id": "4ef2c25c",
   "metadata": {},
   "outputs": [
    {
     "data": {
      "text/plain": [
       "Datafile\n",
       "fullpath: None\n",
       "datasets: 2 elements\n",
       "[0] name: y1 - unit: nA - shape: (11, 5)\n",
       "\taxes: 4 elements\n",
       "\t[0] name: x1 - unit: V - shape: (11,) - dim: 0\n",
       "\t[1] name: x2 - unit: V - shape: (5,) - dim: 1\n",
       "\t[2] name: counter_dim0 - unit: a.u. - shape: (11,) - dim: 0\n",
       "\t[3] name: counter_dim1 - unit: a.u. - shape: (5,) - dim: 1\n",
       "[1] name: y2 - unit: pA - shape: (11, 5)\n",
       "\taxes: 4 elements\n",
       "\t[0] name: x1 - unit: V - shape: (11,) - dim: 0\n",
       "\t[1] name: x2 - unit: V - shape: (5,) - dim: 1\n",
       "\t[2] name: counter_dim0 - unit: a.u. - shape: (11,) - dim: 0\n",
       "\t[3] name: counter_dim1 - unit: a.u. - shape: (5,) - dim: 1"
      ]
     },
     "execution_count": 8,
     "metadata": {},
     "output_type": "execute_result"
    }
   ],
   "source": [
    "df = run_id_to_datafile(run_id)\n",
    "df\n",
    "# Now, each dataset has 2 axes (x1 and x2) with their corresponding dimensions."
   ]
  },
  {
   "cell_type": "markdown",
   "id": "37997484",
   "metadata": {},
   "source": [
    "## Parallel sweep\n",
    "\n",
    "Parallel sweep is simply to change two or more parameters at the same time.\n",
    "\n",
    "Again, this is simple to define in the instructions for the sweep"
   ]
  },
  {
   "cell_type": "code",
   "execution_count": 9,
   "id": "c1fff829",
   "metadata": {},
   "outputs": [
    {
     "name": "stdout",
     "output_type": "stream",
     "text": [
      "Starting experimental run with id: 161. \n",
      "The measurement will take 0:00:03.387982\n"
     ]
    },
    {
     "data": {
      "application/vnd.jupyter.widget-view+json": {
       "model_id": "30b811b4f64c4ee38f9d7f32457c659b",
       "version_major": 2,
       "version_minor": 0
      },
      "text/plain": [
       "  0%|          | 0/55 [00:00<?, ?it/s]"
      ]
     },
     "metadata": {},
     "output_type": "display_data"
    }
   ],
   "source": [
    "sw.clear_instructions()\n",
    "sw.sweep_linear(x1,0,-1,dim=1)\n",
    "sw.sweep_linear(x2,0,+1,dim=1) # same dimension as x1\n",
    "run_id = sw.execute(\n",
    "            sweep_shape=[11,5], # we can pass it as argument in execute as well\n",
    ")"
   ]
  },
  {
   "cell_type": "code",
   "execution_count": 10,
   "id": "8891ba24",
   "metadata": {},
   "outputs": [
    {
     "data": {
      "text/plain": [
       "Datafile\n",
       "fullpath: None\n",
       "datasets: 2 elements\n",
       "[0] name: y1 - unit: nA - shape: (11, 5)\n",
       "\taxes: 4 elements\n",
       "\t[0] name: x1 - unit: V - shape: (11,) - dim: 0\n",
       "\t[1] name: x2 - unit: V - shape: (11,) - dim: 0\n",
       "\t[2] name: counter_dim0 - unit: a.u. - shape: (11,) - dim: 0\n",
       "\t[3] name: counter_dim1 - unit: a.u. - shape: (5,) - dim: 1\n",
       "[1] name: y2 - unit: pA - shape: (11, 5)\n",
       "\taxes: 4 elements\n",
       "\t[0] name: x1 - unit: V - shape: (11,) - dim: 0\n",
       "\t[1] name: x2 - unit: V - shape: (11,) - dim: 0\n",
       "\t[2] name: counter_dim0 - unit: a.u. - shape: (11,) - dim: 0\n",
       "\t[3] name: counter_dim1 - unit: a.u. - shape: (5,) - dim: 1"
      ]
     },
     "execution_count": 10,
     "metadata": {},
     "output_type": "execute_result"
    }
   ],
   "source": [
    "df = run_id_to_datafile(run_id)\n",
    "df\n",
    "# x1 and x2 have indeed the same dimension"
   ]
  },
  {
   "cell_type": "markdown",
   "id": "8704e431",
   "metadata": {},
   "source": [
    "## Define initial and final configurations\n",
    "Often, you want to define the initial conditions before starting a sweep. Similarly, after finish the measurement, you may want to return to an idle configuration (e.g. turn off the signal generator).\n",
    "\n",
    "Sweeper allows you to set these configurations. Behind the screen, it will also save these \"static\" parameter values in the database."
   ]
  },
  {
   "cell_type": "code",
   "execution_count": 38,
   "id": "ed96519c",
   "metadata": {},
   "outputs": [
    {
     "name": "stdout",
     "output_type": "stream",
     "text": [
      "Starting experimental run with id: 166. \n",
      "The measurement will take 0:00:01.181210\n"
     ]
    },
    {
     "data": {
      "application/vnd.jupyter.widget-view+json": {
       "model_id": "cfc9a0cbed7f4abca811b83428bd628c",
       "version_major": 2,
       "version_minor": 0
      },
      "text/plain": [
       "  0%|          | 0/11 [00:00<?, ?it/s]"
      ]
     },
     "metadata": {},
     "output_type": "display_data"
    }
   ],
   "source": [
    "# Let's create a dummy RF on/off parameter\n",
    "rf = Parameter('RF_status', set_cmd=None, get_cmd=None, initial_value=0)\n",
    "\n",
    "sw = Sweeper()\n",
    "sw.set_readouts(y1, y2)\n",
    "sw.pre_readout_wait = 0.1\n",
    "\n",
    "# Let's initialize x1 to a custom value.\n",
    "x1(0.5)\n",
    "\n",
    "sw.sweep_linear(x1, 0, -1, dim=1)\n",
    "sw.set_sweep_shape([11])\n",
    "\n",
    "# Let's turn on the RF before the sweep.\n",
    "sw.set_start_at({rf:1})\n",
    "\n",
    "# We also set to turn off the RF after the sweep\n",
    "sw.set_return_to({rf:0})\n",
    "\n",
    "run_id = sw.execute()"
   ]
  },
  {
   "cell_type": "markdown",
   "id": "d1bd8a4b",
   "metadata": {},
   "source": [
    "## Let's explore the static configurations\n",
    "\n",
    "We will use a SweeperContent instance which is the engine behind run_id_to_datafile."
   ]
  },
  {
   "cell_type": "code",
   "execution_count": 44,
   "id": "4d0a765e",
   "metadata": {},
   "outputs": [
    {
     "data": {
      "text/plain": [
       "{'init': [Static - name: x1 - unit: V - value: 0.5,\n",
       "  Static - name: RF_status - unit: a.u. - value: 1.0],\n",
       " 'final': [Static - name: x1 - unit: V - value: -1.0,\n",
       "  Static - name: RF_status - unit: a.u. - value: 0.0]}"
      ]
     },
     "execution_count": 44,
     "metadata": {},
     "output_type": "execute_result"
    }
   ],
   "source": [
    "from qube.measurement.content import SweeperContent\n",
    "ds = load_by_id(run_id)\n",
    "cont = SweeperContent(ds)\n",
    "\n",
    "# we can access to the datasets from the last sweep\n",
    "# cont.datasets\n",
    "\n",
    "# more interestingly, we can access to the static configurations at the beginning and the end of the sweep\n",
    "cont.statics\n",
    "\n",
    "# as you can see, RF_status is 1 in \"init\" and 0 in \"final\"\n",
    "# furthermore, note that x1 intiial value is 0.5 since we initialized it manually before the sweep.\n",
    "# And the final value of x1 is, in this case, the last swept value = -1.0"
   ]
  },
  {
   "cell_type": "markdown",
   "id": "d6c93b1b",
   "metadata": {},
   "source": [
    "## Custom pre/post process\n",
    "\n",
    "Pre- and post-processes refer to actions before and after the sweep. They are useful in situations where you want to generate and save a plot at the end of the experiment.\n",
    "\n",
    "To show this capability, we will simply generate some printing functions."
   ]
  },
  {
   "cell_type": "code",
   "execution_count": 48,
   "id": "17e9f01e",
   "metadata": {},
   "outputs": [
    {
     "name": "stdout",
     "output_type": "stream",
     "text": [
      "Starting sweep...\n",
      "Second pre-process...\n",
      "Starting experimental run with id: 169. \n",
      "The measurement will take 0:00:01.207456\n"
     ]
    },
    {
     "data": {
      "application/vnd.jupyter.widget-view+json": {
       "model_id": "1657d22c1cce464ca8bade7c4eeaa701",
       "version_major": 2,
       "version_minor": 0
      },
      "text/plain": [
       "  0%|          | 0/11 [00:00<?, ?it/s]"
      ]
     },
     "metadata": {},
     "output_type": "display_data"
    },
    {
     "name": "stdout",
     "output_type": "stream",
     "text": [
      "End of sweep...\n",
      "Second post-process...\n"
     ]
    }
   ],
   "source": [
    "sw = Sweeper()\n",
    "sw.set_readouts(y1, y2)\n",
    "sw.pre_readout_wait = 0.1\n",
    "sw.add_pre_process(lambda: print('Starting sweep...'))\n",
    "sw.add_pre_process(lambda: print('Second pre-process...')) # you can as many as you want\n",
    "\n",
    "sw.add_post_process(lambda: print('End of sweep...'))\n",
    "sw.add_post_process(lambda: print('Second post-process...'))\n",
    "\n",
    "sw.set_sweep_shape([11]) # only repetitions\n",
    "run_id = sw.execute()"
   ]
  },
  {
   "cell_type": "markdown",
   "id": "3b3c2049",
   "metadata": {},
   "source": [
    "## Custom pre/post readout processes\n",
    "\n",
    "In contrary to pre/post-processes, the pre/post-readouts will be execute at every loop, meaning that if you sweep 10 points, these actions will be executed 10 times.\n",
    "\n",
    "This is useful in situations where you want to, for example, prepare/reset an instrument before/after each readout.\n",
    "In particular, you can trigger the AWG to generate only once the waveform or to clean the buffer of the oscilloscope."
   ]
  },
  {
   "cell_type": "code",
   "execution_count": 51,
   "id": "c0a6d0c5",
   "metadata": {},
   "outputs": [
    {
     "name": "stdout",
     "output_type": "stream",
     "text": [
      "Starting experimental run with id: 171. \n",
      "Loop 0\n",
      "Trigger AWG\n",
      "Clean buffer after readout!\n",
      "Loop 1\n",
      "Trigger AWG\n",
      "Clean buffer after readout!\n",
      "Loop 2\n",
      "Trigger AWG\n",
      "Clean buffer after readout!\n",
      "Loop 3\n",
      "Trigger AWG\n",
      "Clean buffer after readout!\n",
      "The measurement will take 0:00:00.544125\n"
     ]
    },
    {
     "data": {
      "application/vnd.jupyter.widget-view+json": {
       "model_id": "6cfb46e4070d42be96ed29eafaf1e608",
       "version_major": 2,
       "version_minor": 0
      },
      "text/plain": [
       "  0%|          | 0/5 [00:00<?, ?it/s]"
      ]
     },
     "metadata": {},
     "output_type": "display_data"
    },
    {
     "name": "stdout",
     "output_type": "stream",
     "text": [
      "Loop 4\n",
      "Trigger AWG\n",
      "Clean buffer after readout!\n"
     ]
    }
   ],
   "source": [
    "sw = Sweeper()\n",
    "sw.set_readouts(y1, y2)\n",
    "sw.pre_readout_wait = 0.1\n",
    "\n",
    "i = 0\n",
    "def counter():\n",
    "    global i\n",
    "    i += 1\n",
    "    \n",
    "sw.add_pre_readout(lambda: print(f'Loop {i}'))\n",
    "sw.add_pre_readout(lambda: print(f'Trigger AWG'))\n",
    "sw.add_pre_readout(counter) \n",
    "sw.add_post_readout(lambda: print('Clean buffer after readout!'))\n",
    "\n",
    "sw.set_sweep_shape([5]) # only repetitions\n",
    "run_id = sw.execute()"
   ]
  },
  {
   "cell_type": "markdown",
   "id": "fe99982b",
   "metadata": {},
   "source": [
    "## Other examples of using Sweeper\n",
    "\n",
    "In general, you can set a configuration to a Sweeper by indiviual methods such as set_sweep_shape, set_readouts, etc.\n",
    "However, it is also possible to set all (or few) at once using set_config(...). Similarly, the same arguments can be passed to execute(...)"
   ]
  },
  {
   "cell_type": "code",
   "execution_count": 54,
   "id": "79ba4201",
   "metadata": {},
   "outputs": [],
   "source": [
    "sw1 = Sweeper()\n",
    "sw1.set_readouts(y1, y2)\n",
    "sw1.pre_readout_wait = 0.1\n",
    "sw1.set_sweep_shape([11])\n",
    "\n",
    "# We can do the same thing with:\n",
    "sw2 = Sweeper()\n",
    "sw2.set_config(\n",
    "    readouts=[y1, y2],\n",
    "    pre_readout_wait=0.1,\n",
    "    sweep_shape=[11],\n",
    ")"
   ]
  },
  {
   "cell_type": "code",
   "execution_count": 55,
   "id": "0d0ffde8",
   "metadata": {},
   "outputs": [
    {
     "name": "stdout",
     "output_type": "stream",
     "text": [
      "Help on method set_config in module qube.measurement.sweeper:\n",
      "\n",
      "set_config(instructions: List[List] = None, sweep_shape: Iterable[int] = None, readouts: List[Union[qcodes.parameters.parameter.Parameter, qcodes.parameters.delegate_parameter.DelegateParameter]] = None, measurement: qcodes.dataset.measurements.Measurement = None, start_at: Dict[Union[qcodes.parameters.parameter.Parameter, qcodes.parameters.delegate_parameter.DelegateParameter], Any] = None, return_to: Dict[Union[qcodes.parameters.parameter.Parameter, qcodes.parameters.delegate_parameter.DelegateParameter], Any] = None, apply_method: Callable[[Dict[Union[qcodes.parameters.parameter.Parameter, qcodes.parameters.delegate_parameter.DelegateParameter], Any]], NoneType] = None, readout_method: Callable[[List[Union[qcodes.parameters.parameter.Parameter, qcodes.parameters.delegate_parameter.DelegateParameter]]], Dict[Union[qcodes.parameters.parameter.Parameter, qcodes.parameters.delegate_parameter.DelegateParameter], Any]] = None, callback: List[Callable[[Dict], Any]] = None, pre_process: List[Callable] = None, post_process: List[Callable] = None, pre_readout: List[Callable] = None, post_readout: List[Callable] = None, pre_process_wait: Union[int, float] = None, post_process_wait: Union[int, float] = None, pre_readout_wait: Union[int, float] = None, post_readout_wait: Union[int, float] = None, note: str = '', show_progress_bar: bool = True) method of qube.measurement.sweeper.Sweeper instance\n",
      "    Save the configuration for .execute\n",
      "    \n",
      "    kwargs:\n",
      "        instructions:\n",
      "            List of sweep instructions as:\n",
      "            - [dim, qcodes param, array of values] for sweeping a parameter\n",
      "            - [dim, None, points] for repeating a given dimension\n",
      "            If instructions are used, it will clear the previously set instructions.\n",
      "            Note: it is recommended to use the generator methods such as .sweep_linear, .sweep_log, etc.\n",
      "        sweep_shape:\n",
      "            List of pts for each dim starting from 1.\n",
      "            Ex: [10,2] which means 10 and 2 pts for dim1 and dim2.\n",
      "            If it is None, it uses Sweeper.sweep_shape\n",
      "            If instructions are used, this will be ignored.\n",
      "        readouts:\n",
      "            List of qcodes parameters for readout\n",
      "            If it is None, it uses Sweeper.readouts\n",
      "        measurement:\n",
      "            Optional qcodes Measurement instance.\n",
      "            If it is None, it creates a default Measurement instance.\n",
      "        start_at:\n",
      "            Dict for the initial configuration before entering the sweep loop. The keys are qcodes parameters.\n",
      "            Ex: {v1: -0.2, v2: -0.1}\n",
      "            If it is None, it won't move anything.\n",
      "        return_to:\n",
      "            Dict for the initial configuration after exiting the sweep loop. The keys are qcodes parameters.\n",
      "            Ex: {v1: -0.2, v2: -0.1}\n",
      "            If it is None, it won't move anything.\n",
      "        apply_method:\n",
      "            User-defined method to apply qcodes parameter's value. This method has only one argument for a\n",
      "            dictionary where the keys are qcodes parameters.\n",
      "            If it is None, it uses the method param(value) as in qcodes\n",
      "        readout_method: Callable[[List[QcParamType]], Dict[QcParamType, Any]] = None\n",
      "            User-defined method to get qcodes parameter's value. This method has only one argument for a\n",
      "            list of qcodes parameters. It returns a dictionary of {param:value}.\n",
      "            If it is None, it uses the method param() as in qcodes\n",
      "        callback_method:\n",
      "            Method that will be executed at the end of each sweep step.\n",
      "            The only input argument is a dict as the template .get_callback_dict_template()\n",
      "        pre_process:\n",
      "            List of functions with no arguments.\n",
      "            If you need to define custom arg and kwargs, use Sweeper.add_pre_process\n",
      "        post_process:\n",
      "            List of functions with no arguments.\n",
      "            If you need to define custom arg and kwargs, use Sweeper.add_post_process\n",
      "        pre_readout:\n",
      "            List of functions with no arguments.\n",
      "            If you need to define custom arg and kwargs, use Sweeper.add_pre_readout\n",
      "        post_readout:\n",
      "            List of functions with no arguments.\n",
      "            If you need to define custom arg and kwargs, use Sweeper.add_post_readout\n",
      "        pre_process_wait:\n",
      "            Seconds to wait after execution of pre_process.\n",
      "            It is None, wait=0\n",
      "        post_process_wait:\n",
      "            Seconds to wait after execution of post_process.\n",
      "            It is None, wait=0\n",
      "        pre_readout_wait:\n",
      "            Seconds to wait after execution of pre_readout.\n",
      "            It is None, wait=0\n",
      "        post_readout_wait:\n",
      "            Seconds to wait after execution of post_readout.\n",
      "            It is None, wait=0\n",
      "        note:\n",
      "            Custom notes to add for the sweep.\n",
      "        show_progress_bar:\n",
      "            Show a simple jupyter notebook progress bar. Default is True.\n",
      "\n"
     ]
    }
   ],
   "source": [
    "# You can check all the accepted kwargs here:\n",
    "help(sw2.set_config)"
   ]
  },
  {
   "cell_type": "markdown",
   "id": "09910ec3",
   "metadata": {},
   "source": [
    "## Test run\n",
    "\n",
    "You can also run a test without applying the sweep values. This is useful if you want to prepare few sweeps for running overnight."
   ]
  },
  {
   "cell_type": "code",
   "execution_count": 57,
   "id": "d1ddff95",
   "metadata": {},
   "outputs": [
    {
     "name": "stdout",
     "output_type": "stream",
     "text": [
      "Starting experimental run with id: 172. \n",
      "The measurement will take 0:00:01.211634\n"
     ]
    },
    {
     "data": {
      "application/vnd.jupyter.widget-view+json": {
       "model_id": "4f73cfb68aff4e2bb41dfaba7e06c505",
       "version_major": 2,
       "version_minor": 0
      },
      "text/plain": [
       "  0%|          | 0/11 [00:00<?, ?it/s]"
      ]
     },
     "metadata": {},
     "output_type": "display_data"
    },
    {
     "data": {
      "text/plain": [
       "172"
      ]
     },
     "execution_count": 57,
     "metadata": {},
     "output_type": "execute_result"
    }
   ],
   "source": [
    "# a dummy parameter with safety litims to check in the test run\n",
    "x3 = Parameter('x3', unit='V', set_cmd=None, get_cmd=None, initial_value=0, vals=Numbers(-2, 2)) # with safety limits\n",
    "\n",
    "sw = Sweeper()\n",
    "sw.set_readouts(y1, y2)\n",
    "sw.pre_readout_wait = 0.1\n",
    "sw.sweep_linear(x3, -1, 1, dim=1) # we are inside the safety limits\n",
    "sw.set_sweep_shape([11])\n",
    "\n",
    "# We want to check the values + the entire sweep process without actually applying the sweep values.\n",
    "sw.execute(test_run=True) # default it is False"
   ]
  },
  {
   "cell_type": "code",
   "execution_count": 62,
   "id": "fbb2ac3a",
   "metadata": {},
   "outputs": [
    {
     "data": {
      "text/plain": [
       "Datafile\n",
       "fullpath: None\n",
       "datasets: 2 elements\n",
       "[0] name: y1 - unit: nA - shape: (5,)\n",
       "\taxes: 1 elements\n",
       "\t[0] name: counter_dim0 - unit: a.u. - shape: (5,) - dim: 0\n",
       "[1] name: y2 - unit: pA - shape: (5,)\n",
       "\taxes: 1 elements\n",
       "\t[0] name: counter_dim0 - unit: a.u. - shape: (5,) - dim: 0"
      ]
     },
     "execution_count": 62,
     "metadata": {},
     "output_type": "execute_result"
    }
   ],
   "source": [
    "# As you see, it executes the measurement, but it does not move x3. It does however readout the values.\n",
    "# We can see this in the data\n",
    "df = run_id_to_datafile(run_id)\n",
    "df # no x3 axis"
   ]
  },
  {
   "cell_type": "code",
   "execution_count": 64,
   "id": "9b6e70ab",
   "metadata": {},
   "outputs": [
    {
     "ename": "ValueError",
     "evalue": "-5.0 is invalid: must be between -2 and 2 inclusive; Parameter: x3",
     "output_type": "error",
     "traceback": [
      "\u001b[1;31m---------------------------------------------------------------------------\u001b[0m",
      "\u001b[1;31mValueError\u001b[0m                                Traceback (most recent call last)",
      "Input \u001b[1;32mIn [64]\u001b[0m, in \u001b[0;36m<module>\u001b[1;34m\u001b[0m\n\u001b[0;32m      2\u001b[0m sw\u001b[38;5;241m.\u001b[39mclear_instructions()\n\u001b[0;32m      3\u001b[0m sw\u001b[38;5;241m.\u001b[39msweep_linear(x3, \u001b[38;5;241m-\u001b[39m\u001b[38;5;241m5\u001b[39m, \u001b[38;5;241m5\u001b[39m, dim\u001b[38;5;241m=\u001b[39m\u001b[38;5;241m1\u001b[39m) \u001b[38;5;66;03m# note that the values are out of the safety limits\u001b[39;00m\n\u001b[1;32m----> 4\u001b[0m \u001b[43msw\u001b[49m\u001b[38;5;241;43m.\u001b[39;49m\u001b[43mexecute\u001b[49m\u001b[43m(\u001b[49m\n\u001b[0;32m      5\u001b[0m \u001b[43m    \u001b[49m\u001b[43msweep_shape\u001b[49m\u001b[38;5;241;43m=\u001b[39;49m\u001b[43m[\u001b[49m\u001b[38;5;241;43m11\u001b[39;49m\u001b[43m]\u001b[49m\u001b[43m,\u001b[49m\n\u001b[0;32m      6\u001b[0m \u001b[43m    \u001b[49m\u001b[43mtest_run\u001b[49m\u001b[38;5;241;43m=\u001b[39;49m\u001b[38;5;28;43;01mTrue\u001b[39;49;00m\u001b[43m,\u001b[49m\n\u001b[0;32m      7\u001b[0m \u001b[43m)\u001b[49m\n",
      "File \u001b[1;32m~\\Anaconda3\\envs\\qube\\lib\\site-packages\\qube-0.1.2-py3.9.egg\\qube\\measurement\\sweeper.py:551\u001b[0m, in \u001b[0;36mSweeper.execute\u001b[1;34m(self, test_run, **kwargs)\u001b[0m\n\u001b[0;32m    527\u001b[0m \u001b[38;5;124;03m\"\"\"\u001b[39;00m\n\u001b[0;32m    528\u001b[0m \u001b[38;5;124;03mSweep execution with the following order:\u001b[39;00m\n\u001b[0;32m    529\u001b[0m \u001b[38;5;124;03m1. Go to start_at\u001b[39;00m\n\u001b[1;32m   (...)\u001b[0m\n\u001b[0;32m    548\u001b[0m \u001b[38;5;124;03m    datasaver.run_id\u001b[39;00m\n\u001b[0;32m    549\u001b[0m \u001b[38;5;124;03m\"\"\"\u001b[39;00m\n\u001b[0;32m    550\u001b[0m \u001b[38;5;28mself\u001b[39m\u001b[38;5;241m.\u001b[39mset_config(\u001b[38;5;241m*\u001b[39m\u001b[38;5;241m*\u001b[39mkwargs)\n\u001b[1;32m--> 551\u001b[0m \u001b[38;5;28;43mself\u001b[39;49m\u001b[38;5;241;43m.\u001b[39;49m\u001b[43m_validate_sweep_values\u001b[49m\u001b[43m(\u001b[49m\u001b[43m)\u001b[49m\n\u001b[0;32m    552\u001b[0m \u001b[38;5;28mself\u001b[39m\u001b[38;5;241m.\u001b[39m_register_sweep_params_in_meas()\n\u001b[0;32m    553\u001b[0m \u001b[38;5;28mself\u001b[39m\u001b[38;5;241m.\u001b[39m_register_readout_params_in_meas()\n",
      "File \u001b[1;32m~\\Anaconda3\\envs\\qube\\lib\\site-packages\\qube-0.1.2-py3.9.egg\\qube\\measurement\\sweeper.py:1223\u001b[0m, in \u001b[0;36mSweeper._validate_sweep_values\u001b[1;34m(self)\u001b[0m\n\u001b[0;32m   1221\u001b[0m \u001b[38;5;28;01mfor\u001b[39;00m qc_param, sw_param \u001b[38;5;129;01min\u001b[39;00m \u001b[38;5;28mself\u001b[39m\u001b[38;5;241m.\u001b[39msweep_parameters\u001b[38;5;241m.\u001b[39mitems():\n\u001b[0;32m   1222\u001b[0m     values \u001b[38;5;241m=\u001b[39m sw_param\u001b[38;5;241m.\u001b[39mvalues\n\u001b[1;32m-> 1223\u001b[0m     \u001b[43mvalidate_qc_param_values\u001b[49m\u001b[43m(\u001b[49m\u001b[43mqc_param\u001b[49m\u001b[43m,\u001b[49m\u001b[43m \u001b[49m\u001b[43mvalues\u001b[49m\u001b[43m)\u001b[49m\n",
      "File \u001b[1;32m~\\Anaconda3\\envs\\qube\\lib\\site-packages\\qube-0.1.2-py3.9.egg\\qube\\measurement\\sweeper.py:77\u001b[0m, in \u001b[0;36mvalidate_qc_param_values\u001b[1;34m(param, values)\u001b[0m\n\u001b[0;32m     75\u001b[0m sources \u001b[38;5;241m=\u001b[39m get_param_sources(param)\n\u001b[0;32m     76\u001b[0m all_params \u001b[38;5;241m=\u001b[39m [param] \u001b[38;5;241m+\u001b[39m sources\n\u001b[1;32m---> 77\u001b[0m [pi\u001b[38;5;241m.\u001b[39mvalidate(vi) \u001b[38;5;28;01mfor\u001b[39;00m vi \u001b[38;5;129;01min\u001b[39;00m values \u001b[38;5;28;01mfor\u001b[39;00m pi \u001b[38;5;129;01min\u001b[39;00m all_params]\n",
      "File \u001b[1;32m~\\Anaconda3\\envs\\qube\\lib\\site-packages\\qube-0.1.2-py3.9.egg\\qube\\measurement\\sweeper.py:77\u001b[0m, in \u001b[0;36m<listcomp>\u001b[1;34m(.0)\u001b[0m\n\u001b[0;32m     75\u001b[0m sources \u001b[38;5;241m=\u001b[39m get_param_sources(param)\n\u001b[0;32m     76\u001b[0m all_params \u001b[38;5;241m=\u001b[39m [param] \u001b[38;5;241m+\u001b[39m sources\n\u001b[1;32m---> 77\u001b[0m [\u001b[43mpi\u001b[49m\u001b[38;5;241;43m.\u001b[39;49m\u001b[43mvalidate\u001b[49m\u001b[43m(\u001b[49m\u001b[43mvi\u001b[49m\u001b[43m)\u001b[49m \u001b[38;5;28;01mfor\u001b[39;00m vi \u001b[38;5;129;01min\u001b[39;00m values \u001b[38;5;28;01mfor\u001b[39;00m pi \u001b[38;5;129;01min\u001b[39;00m all_params]\n",
      "File \u001b[1;32m~\\Anaconda3\\envs\\qube\\lib\\site-packages\\qcodes\\parameters\\parameter_base.py:708\u001b[0m, in \u001b[0;36mParameterBase.validate\u001b[1;34m(self, value)\u001b[0m\n\u001b[0;32m    706\u001b[0m \u001b[38;5;28;01melse\u001b[39;00m:\n\u001b[0;32m    707\u001b[0m     context \u001b[38;5;241m=\u001b[39m \u001b[38;5;28mself\u001b[39m\u001b[38;5;241m.\u001b[39mname\n\u001b[1;32m--> 708\u001b[0m \u001b[38;5;28;43mself\u001b[39;49m\u001b[38;5;241;43m.\u001b[39;49m\u001b[43mvals\u001b[49m\u001b[38;5;241;43m.\u001b[39;49m\u001b[43mvalidate\u001b[49m\u001b[43m(\u001b[49m\u001b[43mvalue\u001b[49m\u001b[43m,\u001b[49m\u001b[43m \u001b[49m\u001b[38;5;124;43m\"\u001b[39;49m\u001b[38;5;124;43mParameter: \u001b[39;49m\u001b[38;5;124;43m\"\u001b[39;49m\u001b[43m \u001b[49m\u001b[38;5;241;43m+\u001b[39;49m\u001b[43m \u001b[49m\u001b[43mcontext\u001b[49m\u001b[43m)\u001b[49m\n",
      "File \u001b[1;32m~\\Anaconda3\\envs\\qube\\lib\\site-packages\\qcodes\\validators\\validators.py:301\u001b[0m, in \u001b[0;36mNumbers.validate\u001b[1;34m(self, value, context)\u001b[0m\n\u001b[0;32m    298\u001b[0m     \u001b[38;5;28;01mraise\u001b[39;00m \u001b[38;5;167;01mTypeError\u001b[39;00m(\u001b[38;5;124mf\u001b[39m\u001b[38;5;124m\"\u001b[39m\u001b[38;5;132;01m{\u001b[39;00m\u001b[38;5;28mrepr\u001b[39m(value)\u001b[38;5;132;01m}\u001b[39;00m\u001b[38;5;124m is not an int or float; \u001b[39m\u001b[38;5;132;01m{\u001b[39;00mcontext\u001b[38;5;132;01m}\u001b[39;00m\u001b[38;5;124m\"\u001b[39m)\n\u001b[0;32m    300\u001b[0m \u001b[38;5;28;01mif\u001b[39;00m \u001b[38;5;129;01mnot\u001b[39;00m (\u001b[38;5;28mself\u001b[39m\u001b[38;5;241m.\u001b[39m_min_value \u001b[38;5;241m<\u001b[39m\u001b[38;5;241m=\u001b[39m value \u001b[38;5;241m<\u001b[39m\u001b[38;5;241m=\u001b[39m \u001b[38;5;28mself\u001b[39m\u001b[38;5;241m.\u001b[39m_max_value):\n\u001b[1;32m--> 301\u001b[0m     \u001b[38;5;28;01mraise\u001b[39;00m \u001b[38;5;167;01mValueError\u001b[39;00m(\n\u001b[0;32m    302\u001b[0m         \u001b[38;5;124m\"\u001b[39m\u001b[38;5;132;01m{}\u001b[39;00m\u001b[38;5;124m is invalid: must be between \u001b[39m\u001b[38;5;124m\"\u001b[39m\n\u001b[0;32m    303\u001b[0m         \u001b[38;5;124m\"\u001b[39m\u001b[38;5;132;01m{}\u001b[39;00m\u001b[38;5;124m and \u001b[39m\u001b[38;5;132;01m{}\u001b[39;00m\u001b[38;5;124m inclusive; \u001b[39m\u001b[38;5;132;01m{}\u001b[39;00m\u001b[38;5;124m\"\u001b[39m\u001b[38;5;241m.\u001b[39mformat(\n\u001b[0;32m    304\u001b[0m             \u001b[38;5;28mrepr\u001b[39m(value), \u001b[38;5;28mself\u001b[39m\u001b[38;5;241m.\u001b[39m_min_value, \u001b[38;5;28mself\u001b[39m\u001b[38;5;241m.\u001b[39m_max_value, context\n\u001b[0;32m    305\u001b[0m         )\n\u001b[0;32m    306\u001b[0m     )\n",
      "\u001b[1;31mValueError\u001b[0m: -5.0 is invalid: must be between -2 and 2 inclusive; Parameter: x3"
     ]
    }
   ],
   "source": [
    "# We can check the safety limits validation\n",
    "sw.clear_instructions()\n",
    "sw.sweep_linear(x3, -5, 5, dim=1) # note that the values are out of the safety limits\n",
    "sw.execute(\n",
    "    sweep_shape=[11],\n",
    "    test_run=True,\n",
    ")\n",
    "# it raises an error as soon as it finds a sweep value which is out of the safety limits."
   ]
  },
  {
   "cell_type": "markdown",
   "id": "fbc740c9",
   "metadata": {},
   "source": [
    "## Sweep sequence\n",
    "\n",
    "Extra information about the exact sequence when execute() is called can be found in the docstring."
   ]
  },
  {
   "cell_type": "code",
   "execution_count": 66,
   "id": "6d521a31",
   "metadata": {},
   "outputs": [
    {
     "name": "stdout",
     "output_type": "stream",
     "text": [
      "Help on class Sweeper in module qube.measurement.sweeper:\n",
      "\n",
      "class Sweeper(builtins.object)\n",
      " |  Sweeper(name='Sweep')\n",
      " |  \n",
      " |  Methods defined here:\n",
      " |  \n",
      " |  __init__(self, name='Sweep')\n",
      " |      Class for performing multi-dimensional sweep measurements with qcodes parameters.\n",
      " |      \n",
      " |      The user can define:\n",
      " |          - any number of sweep instructions for each parameter.\n",
      " |              Ex: .sweep_linear(V1, 0, 1, dim=1)\n",
      " |          - sweep shape: points for each dimension.\n",
      " |              Ex: .set_sweep_shape([2,3,4])  # 2, 3 and 4 pts for dim 1, 2 and 3 (respectively)\n",
      " |          - custom method to apply a swept value (default: param(value).\n",
      " |              Ex: .set_apply_method(f) where f takes a dictionary as argument.\n",
      " |              See docstring of .set_apply_method\n",
      " |          - custom method to readout (default: param())\n",
      " |              Ex: .set_readout_method(f) where f takes a list of qcodes parameters.\n",
      " |              See docstring of .set_readout_method\n",
      " |          - pre-/post- processes which are executed before/after the sweep.\n",
      " |              Ex: .set_pre_process(*f) or .add_pre_process(f, args, kwargs)\n",
      " |          - pre-/post- readout which are executed before/after the readout at each sweep loop.\n",
      " |              Ex: .set_pre_readout(*f) or .add_pre_readout(f, args, kwargs)\n",
      " |          - pre-/post- process/readout waiting times (default is 0 for all cases)\n",
      " |              Ex: .pre_process_wait = 0\n",
      " |          - starting configuration: initial parameter values before executing the sweep\n",
      " |              Ex: .set_start_at({V1: v1, V2: v2, ...})\n",
      " |          - final configuration: parameter values after finishing the sweep\n",
      " |              Ex: .set_return_to({V1: v1, V2: v2, ...})\n",
      " |          - readouts: list of readout parameters for a given sweep.\n",
      " |              Ex: .set_readouts(ADC1, ADC2, ...)\n",
      " |          - record other parameter values: the class also saves \"static\" configurations at the beginning and the end\n",
      " |              of the sweeps, you can add other parameters that you want to be saved.\n",
      " |              By default, it will always save parameter that are swept and used in start_at and return_to.\n",
      " |              Ex: .set_tracked_parameters(*qcodes_param)\n",
      " |          - add a note that will be saved in the database\n",
      " |              Ex: .set_note('Loading map for 1e-')\n",
      " |          - custom callback function at each step (TODO)\n",
      " |      \n",
      " |      This class will handle:\n",
      " |          - generation of ordered instructions for each sweep loop\n",
      " |          - apply parameter values and measure the readouts at each step\n",
      " |          - save measured data and sweep information such as axes, dimensions, static configurations, etc\n",
      " |      \n",
      " |      Sweep execution order in .execute()\n",
      " |      1. Go to start_at\n",
      " |      2. Apply pre_process + wait\n",
      " |      3. Save initial static {param: value}\n",
      " |      4. Enter sweep loop\n",
      " |          4.1 Apply {param: value}\n",
      " |          4.2 Apply pre_readout + wait\n",
      " |          4.3 Readout + save\n",
      " |          4.4 Apply post_readout + wait\n",
      " |          4.5 Execute callback\n",
      " |          4.5 Go to next index and repeat from 4.1 until finish all steps\n",
      " |      5. Apply post_process + wait\n",
      " |      7. Go to return_to\n",
      " |      8. Save final static {param: value}\n",
      " |      \n",
      " |      Example 1:\n",
      " |          sw = Sweeper()\n",
      " |          sw.sweep_linear(V1, 0, 1, dim=1)\n",
      " |          sw.sweep_linear(V2, -1, -2, dim=1, refresh=True)  # parallel sweep with V1 and refresh at each step\n",
      " |          sw.sweep_log(V3, 0, 1e4, dim=2)  # log scale\n",
      " |          sw.sweep_step(V4, 0, 0.2, dim=3)  # start at 0 and step +0.2\n",
      " |          sw.sweep_values(V5, [0, 1, 3, -2], dim=4)  # custom sweep values\n",
      " |          sw.sweep_custom(V6, f, dim=5)  # custom value generator f(pts)\n",
      " |          sw.set_sweep_shape([10,20,30,40,50])  # first element corresponds to pts for dim=1\n",
      " |          run_id = sw.execute()\n",
      " |      \n",
      " |      Example 2:\n",
      " |          sw = Sweeper()\n",
      " |          sw.sweep_linear(V1, 0, 1, dim=1)\n",
      " |          sw.sweep_linear(V2, -1, -2, dim=1)\n",
      " |          run_id = sw.execute(\n",
      " |              sweep_shape=[10,20,30],\n",
      " |              pre_process = [lambda: print('start sweep', lambda: print('another message for pre process')],\n",
      " |              pre_process_wait = 1, # s\n",
      " |              post_process_wait = 1, # s\n",
      " |              readouts = [ADC1, ADC2],\n",
      " |              start_at = {V1: -0.5, V2: -1.0},\n",
      " |              return_to = {V1: 0, V2: 0},\n",
      " |              )\n",
      " |      \n",
      " |      Example 3:\n",
      " |          sw = Sweeper()\n",
      " |          sw.sweep_linear(V1, 0, 1, dim=1)\n",
      " |          sw.sweep_linear(V2, -1, -2, dim=1)\n",
      " |          # set configuration without execution\n",
      " |          sw.set_config(\n",
      " |              sweep_shape=[10,20,30],\n",
      " |              pre_process = [lambda: print('start sweep', lambda: print('another message for pre process')],\n",
      " |              pre_process_wait = 1, # s\n",
      " |              post_process_wait = 1, # s\n",
      " |              readouts = [ADC1, ADC2],\n",
      " |              start_at = {V1: -0.5, V2: -1.0},\n",
      " |              return_to = {V1: 0, V2: 0},\n",
      " |          )\n",
      " |          sw.get_instructions()  # list of [dim, qcodes parameter, values]\n",
      " |          sw.get_sweep_axes()   # list of Axis\n",
      " |          run_id = sw.execute()\n",
      " |  \n",
      " |  add_callback(self, f: Callable[[Dict], Any])\n",
      " |      Add method to be executed at the end of each sweep step.\n",
      " |      The execution will be: f(callback_dict)\n",
      " |  \n",
      " |  add_post_process(self, f: Callable, args: List = None, kwargs: Dict = None)\n",
      " |      Add method to be executed after finishing the sweep.\n",
      " |      The execution will be: f(*args, **kwargs)\n",
      " |  \n",
      " |  add_post_readout(self, f: Callable, args: List = None, kwargs: Dict = None)\n",
      " |      Add method to be executed after each readout.\n",
      " |      The execution will be: f(*args, **kwargs)\n",
      " |  \n",
      " |  add_pre_process(self, f: Callable, args: List = None, kwargs: Dict = None)\n",
      " |      Add method to be executed before starting the sweep.\n",
      " |      The execution will be: f(*args, **kwargs)\n",
      " |  \n",
      " |  add_pre_readout(self, f: Callable, args: List = None, kwargs: Dict = None)\n",
      " |      Add method to be executed before each readout.\n",
      " |      The execution will be: f(*args, **kwargs)\n",
      " |  \n",
      " |  add_readout(self, param: Union[qcodes.parameters.parameter.Parameter, qcodes.parameters.delegate_parameter.DelegateParameter])\n",
      " |      Add a qcodes parameter to be readout at each sweep step.\n",
      " |  \n",
      " |  apply_post_process(self)\n",
      " |  \n",
      " |  apply_post_readout(self)\n",
      " |  \n",
      " |  apply_pre_process(self)\n",
      " |  \n",
      " |  apply_pre_readout(self)\n",
      " |  \n",
      " |  callback(self, d)\n",
      " |  \n",
      " |  clear_all = reset(self)\n",
      " |  \n",
      " |  clear_callbacks(self)\n",
      " |      Clear only callback methods\n",
      " |  \n",
      " |  clear_instructions(self)\n",
      " |      Clear only sweep values and sweep shape.\n",
      " |      It keeps the config for pre/post process/readout, apply/readout method, start_at/return_to, etc.\n",
      " |  \n",
      " |  clear_processes(self)\n",
      " |      Clear only configurations for processes.\n",
      " |  \n",
      " |  default_apply(self, instr: Dict[Union[qcodes.parameters.parameter.Parameter, qcodes.parameters.delegate_parameter.DelegateParameter], Any])\n",
      " |      instr is a dictionary {qc_param1: value1, qc_param2: value2, ...}\n",
      " |      This method will be executed at each sweep step before readout.\n",
      " |  \n",
      " |  default_readout(self, qc_params: List[Union[qcodes.parameters.parameter.Parameter, qcodes.parameters.delegate_parameter.DelegateParameter]]) -> Dict[Union[qcodes.parameters.parameter.Parameter, qcodes.parameters.delegate_parameter.DelegateParameter], Any]\n",
      " |      qc_params: list of qcodes parameters\n",
      " |      This method will be executed at each sweep step for readout.\n",
      " |      \n",
      " |      :returns\n",
      " |      List of tuples of the form: [(instance_of_control1,value1), ...]\n",
      " |      This is compatible with datasaver\n",
      " |  \n",
      " |  execute(self, test_run=False, **kwargs) -> int\n",
      " |      Sweep execution with the following order:\n",
      " |      1. Go to start_at\n",
      " |      2. Apply pre_process + wait\n",
      " |      3. Save initial static {param: value}\n",
      " |      4. Enter sweep loop\n",
      " |          4.1 Apply {param: value}\n",
      " |          4.2 Apply pre_readout + wait\n",
      " |          4.3 Readout + save\n",
      " |          4.4 Apply post_readout + wait\n",
      " |          4.5 Execute callback\n",
      " |          4.5 Go to next index and repeat from 4.1 until finish all steps\n",
      " |      5. Apply post_process + wait\n",
      " |      7. Go to return_to\n",
      " |      8. Save final static {param: value}\n",
      " |      \n",
      " |      kwargs:\n",
      " |          test_run: if it is True, it will execute the sweep without changing any parameter nor readout.\n",
      " |          Rest of kwargs are the same as .set_config\n",
      " |      \n",
      " |      Returns:\n",
      " |          datasaver.run_id\n",
      " |  \n",
      " |  get_callback_dict_template(self)\n",
      " |      Returns:\n",
      " |          Template dictionary for the user-defined callback_method, f(dict)\n",
      " |  \n",
      " |  get_instructions(self) -> List\n",
      " |      Return a list of sweep instructions as:\n",
      " |      - [dim, qcodes parameter, values] for a swept parameter\n",
      " |      - [dim, None, points] for a repetition dim\n",
      " |      \n",
      " |      Example:\n",
      " |          [\n",
      " |          [1, V1, np.array([0, -0.2, -0.4, ..., -1.0])],\n",
      " |          [2, V2, np.array([-1, -0.5, 0])],\n",
      " |          [3, None, 30],\n",
      " |          ]\n",
      " |  \n",
      " |  get_ordered_instructions(self) -> Iterator[Dict[Union[qcodes.parameters.parameter.Parameter, qcodes.parameters.delegate_parameter.DelegateParameter], Any]]\n",
      " |      Returns a generator which yields a dictionary ({qcodes parameter: value}) for each step of the sweep.\n",
      " |      The order starts from lower swept dimension (min dim is 1).\n",
      " |      These instructions take into account the flags of \"apply\" and \"refresh\" for each swept parameter.\n",
      " |      Example 1: apply = True and refresh = False (default)\n",
      " |          .sweep_linear(V1, 0, 1, dim=1)\n",
      " |          .sweep_linear(V2, 1, 2, dim=2)\n",
      " |          .set_sweep_shape([3,3])\n",
      " |          Generated ordered instructions:\n",
      " |          {V1: 0, V2: 1}\n",
      " |          {V1: 0.5}  # do not need to refresh V2\n",
      " |          {V1: 1}\n",
      " |          {V1: 0, V2: 1.5}  # new V2 value\n",
      " |          {V1: 0.5}  # do not need to refresh V2\n",
      " |          {V1: 1}\n",
      " |          {V1: 0, V2: 2.0}  # new V2 value\n",
      " |          {V1: 0.5}  # do not need to refresh V2\n",
      " |          {V1: 1}\n",
      " |      Example 2: apply = True and refresh = True\n",
      " |          .sweep_linear(V1, 0, 1, dim=1, apply=True, refresh=True)\n",
      " |          .sweep_linear(V2, 1, 2, dim=2, apply=True, refresh=True)\n",
      " |          .set_sweep_shape([3,3])\n",
      " |          Generated ordered instructions:\n",
      " |          {V1: 0, V2: 1}\n",
      " |          {V1: 0.5, V2: 1}  # apply again V2 even though it is the same value as before\n",
      " |          {V1: 1, V2: 1}\n",
      " |          ...\n",
      " |          {V1: 1, V2: 2}\n",
      " |      Example 3: apply = False (refresh will be ignored)\n",
      " |          .sweep_linear(V1, 0, 1, dim=1, apply=False)\n",
      " |          .sweep_linear(V2, 1, 2, dim=2, apply=False)\n",
      " |          .set_sweep_shape([3,3])\n",
      " |          Generated ordered instructions:\n",
      " |          {}  # empty dictionary\n",
      " |          ...\n",
      " |          {}  # length of the generator is total number of points (3*3=9)\n",
      " |  \n",
      " |  get_sweep_axes(self) -> List[qube.postprocess.dataset.Axis]\n",
      " |      Generate a list of Axis instances according to the sweep instructions.\n",
      " |  \n",
      " |  get_sweep_params_by_dims(self)\n",
      " |  \n",
      " |  get_time_report(self)\n",
      " |  \n",
      " |  get_total_sweep_points(self)\n",
      " |  \n",
      " |  get_tracked_config(self) -> Dict[Union[qcodes.parameters.parameter.Parameter, qcodes.parameters.delegate_parameter.DelegateParameter], Any]\n",
      " |      Get all tracked parameters' value.\n",
      " |      Returns:\n",
      " |          dictionary {qcodes_param: value}\n",
      " |  \n",
      " |  get_tracked_parameters(self) -> Set[Union[qcodes.parameters.parameter.Parameter, qcodes.parameters.delegate_parameter.DelegateParameter]]\n",
      " |      Get all qcodes parameters whose values will be saved at the start and the end of the sweep.\n",
      " |      It is composed by parameters that are tracked, swept, in start_at and in return_to.\n",
      " |      Returns:\n",
      " |          set of qcodes parameters\n",
      " |  \n",
      " |  reset(self)\n",
      " |      Clear all the configuration for the sweep.\n",
      " |  \n",
      " |  set_apply_method(self, f: Callable[[Dict[Union[qcodes.parameters.parameter.Parameter, qcodes.parameters.delegate_parameter.DelegateParameter], Any]], NoneType])\n",
      " |      Custom apply method to set qcodes parameter values.\n",
      " |      f is a function which takes a dictionary ({qcodes_param: value}) as the only argument.\n",
      " |  \n",
      " |  set_callback(self, *f: Callable[[Dict], Any])\n",
      " |      List of methods to be executed at the end of each sweep step.\n",
      " |      The execution will be: f1(), f2()...\n",
      " |  \n",
      " |  set_config(self, instructions: List[List] = None, sweep_shape: Iterable[int] = None, readouts: List[Union[qcodes.parameters.parameter.Parameter, qcodes.parameters.delegate_parameter.DelegateParameter]] = None, measurement: qcodes.dataset.measurements.Measurement = None, start_at: Dict[Union[qcodes.parameters.parameter.Parameter, qcodes.parameters.delegate_parameter.DelegateParameter], Any] = None, return_to: Dict[Union[qcodes.parameters.parameter.Parameter, qcodes.parameters.delegate_parameter.DelegateParameter], Any] = None, apply_method: Callable[[Dict[Union[qcodes.parameters.parameter.Parameter, qcodes.parameters.delegate_parameter.DelegateParameter], Any]], NoneType] = None, readout_method: Callable[[List[Union[qcodes.parameters.parameter.Parameter, qcodes.parameters.delegate_parameter.DelegateParameter]]], Dict[Union[qcodes.parameters.parameter.Parameter, qcodes.parameters.delegate_parameter.DelegateParameter], Any]] = None, callback: List[Callable[[Dict], Any]] = None, pre_process: List[Callable] = None, post_process: List[Callable] = None, pre_readout: List[Callable] = None, post_readout: List[Callable] = None, pre_process_wait: Union[int, float] = None, post_process_wait: Union[int, float] = None, pre_readout_wait: Union[int, float] = None, post_readout_wait: Union[int, float] = None, note: str = '', show_progress_bar: bool = True)\n",
      " |      Save the configuration for .execute\n",
      " |      \n",
      " |      kwargs:\n",
      " |          instructions:\n",
      " |              List of sweep instructions as:\n",
      " |              - [dim, qcodes param, array of values] for sweeping a parameter\n",
      " |              - [dim, None, points] for repeating a given dimension\n",
      " |              If instructions are used, it will clear the previously set instructions.\n",
      " |              Note: it is recommended to use the generator methods such as .sweep_linear, .sweep_log, etc.\n",
      " |          sweep_shape:\n",
      " |              List of pts for each dim starting from 1.\n",
      " |              Ex: [10,2] which means 10 and 2 pts for dim1 and dim2.\n",
      " |              If it is None, it uses Sweeper.sweep_shape\n",
      " |              If instructions are used, this will be ignored.\n",
      " |          readouts:\n",
      " |              List of qcodes parameters for readout\n",
      " |              If it is None, it uses Sweeper.readouts\n",
      " |          measurement:\n",
      " |              Optional qcodes Measurement instance.\n",
      " |              If it is None, it creates a default Measurement instance.\n",
      " |          start_at:\n",
      " |              Dict for the initial configuration before entering the sweep loop. The keys are qcodes parameters.\n",
      " |              Ex: {v1: -0.2, v2: -0.1}\n",
      " |              If it is None, it won't move anything.\n",
      " |          return_to:\n",
      " |              Dict for the initial configuration after exiting the sweep loop. The keys are qcodes parameters.\n",
      " |              Ex: {v1: -0.2, v2: -0.1}\n",
      " |              If it is None, it won't move anything.\n",
      " |          apply_method:\n",
      " |              User-defined method to apply qcodes parameter's value. This method has only one argument for a\n",
      " |              dictionary where the keys are qcodes parameters.\n",
      " |              If it is None, it uses the method param(value) as in qcodes\n",
      " |          readout_method: Callable[[List[QcParamType]], Dict[QcParamType, Any]] = None\n",
      " |              User-defined method to get qcodes parameter's value. This method has only one argument for a\n",
      " |              list of qcodes parameters. It returns a dictionary of {param:value}.\n",
      " |              If it is None, it uses the method param() as in qcodes\n",
      " |          callback_method:\n",
      " |              Method that will be executed at the end of each sweep step.\n",
      " |              The only input argument is a dict as the template .get_callback_dict_template()\n",
      " |          pre_process:\n",
      " |              List of functions with no arguments.\n",
      " |              If you need to define custom arg and kwargs, use Sweeper.add_pre_process\n",
      " |          post_process:\n",
      " |              List of functions with no arguments.\n",
      " |              If you need to define custom arg and kwargs, use Sweeper.add_post_process\n",
      " |          pre_readout:\n",
      " |              List of functions with no arguments.\n",
      " |              If you need to define custom arg and kwargs, use Sweeper.add_pre_readout\n",
      " |          post_readout:\n",
      " |              List of functions with no arguments.\n",
      " |              If you need to define custom arg and kwargs, use Sweeper.add_post_readout\n",
      " |          pre_process_wait:\n",
      " |              Seconds to wait after execution of pre_process.\n",
      " |              It is None, wait=0\n",
      " |          post_process_wait:\n",
      " |              Seconds to wait after execution of post_process.\n",
      " |              It is None, wait=0\n",
      " |          pre_readout_wait:\n",
      " |              Seconds to wait after execution of pre_readout.\n",
      " |              It is None, wait=0\n",
      " |          post_readout_wait:\n",
      " |              Seconds to wait after execution of post_readout.\n",
      " |              It is None, wait=0\n",
      " |          note:\n",
      " |              Custom notes to add for the sweep.\n",
      " |          show_progress_bar:\n",
      " |              Show a simple jupyter notebook progress bar. Default is True.\n",
      " |  \n",
      " |  set_instructions(self, instrs: List[List])\n",
      " |      Set sweep instructions with a list of:\n",
      " |      - [dim, qcodes parameter, values] for a swept parameter\n",
      " |      - [dim, None, points] for a repetition dim\n",
      " |      \n",
      " |      Example:\n",
      " |          [\n",
      " |          [1, V1, np.array([0, -0.2, -0.4, ..., -1.0])],\n",
      " |          [2, V2, np.array([-1, -0.5, 0])],\n",
      " |          [3, None, 30],\n",
      " |          ]\n",
      " |  \n",
      " |  set_measurement(self, measurement: qcodes.dataset.measurements.Measurement)\n",
      " |  \n",
      " |  set_note(self, s: str)\n",
      " |      Set custom note that will be saved in the qcodes database.\n",
      " |      s: string\n",
      " |  \n",
      " |  set_post_process(self, *f: Callable)\n",
      " |      List of methods to be executed in order after finishing the sweep.\n",
      " |      The execution will be: f1(), f2()...\n",
      " |  \n",
      " |  set_post_readout(self, *f: Callable)\n",
      " |      List of methods to be executed in order after each readout.\n",
      " |      The execution will be: f1(), f2()...\n",
      " |  \n",
      " |  set_pre_process(self, *f: Callable)\n",
      " |      List of methods to be executed in order before starting the sweep.\n",
      " |      The execution will be: f1(), f2()...\n",
      " |  \n",
      " |  set_pre_readout(self, *f: Callable)\n",
      " |      List of methods to be executed in order before each readout.\n",
      " |      The execution will be: f1(), f2()...\n",
      " |  \n",
      " |  set_readout_method(self, f: Callable[[List[Union[qcodes.parameters.parameter.Parameter, qcodes.parameters.delegate_parameter.DelegateParameter]]], Dict[Union[qcodes.parameters.parameter.Parameter, qcodes.parameters.delegate_parameter.DelegateParameter], Any]])\n",
      " |      Custom readout method to get qcodes parameter values.\n",
      " |      f is a function which takes a list of qcodes parameters as the only argument.\n",
      " |      Returns:\n",
      " |          dictionary {qcodes_param: value}\n",
      " |  \n",
      " |  set_readouts(self, *params: Union[qcodes.parameters.parameter.Parameter, qcodes.parameters.delegate_parameter.DelegateParameter])\n",
      " |      Set a list of qcodes parameters to be readout at each sweep step.\n",
      " |  \n",
      " |  set_return_to(self, instr: Dict[Union[qcodes.parameters.parameter.Parameter, qcodes.parameters.delegate_parameter.DelegateParameter], Any])\n",
      " |      Set the parameter values at after finishing the sweep.\n",
      " |      instr: dictionary {qcodes_param: value}\n",
      " |  \n",
      " |  set_start_at(self, instr: Dict[Union[qcodes.parameters.parameter.Parameter, qcodes.parameters.delegate_parameter.DelegateParameter], Any])\n",
      " |      Set the parameter values at before starting the sweep.\n",
      " |      instr: dictionary {qcodes_param: value}\n",
      " |  \n",
      " |  set_sweep_shape(self, sweep_shape: Iterable[int])\n",
      " |      Set number of points for each sweep dimension.\n",
      " |      sweep_shape: list of integer.\n",
      " |      Example:\n",
      " |          sweep_shape = [10, 20, 30] means 10, 20, 30 pts for dim 1, 2 and 3, respectively.\n",
      " |  \n",
      " |  set_tracked_parameters(self, *params: Union[qcodes.parameters.parameter.Parameter, qcodes.parameters.delegate_parameter.DelegateParameter])\n",
      " |      Set extra qcodes parameters whose values will be saved at the start and the end of the sweep.\n",
      " |  \n",
      " |  show_time_report(self)\n",
      " |  \n",
      " |  sweep_custom(self, param: Union[qcodes.parameters.parameter.Parameter, qcodes.parameters.delegate_parameter.DelegateParameter], f: Callable[[int], Union[numpy.__array_like._SupportsArray[numpy.dtype], numpy.__nested_sequence._NestedSequence[numpy.__array_like._SupportsArray[numpy.dtype]], bool, int, float, complex, str, bytes, numpy.__nested_sequence._NestedSequence[Union[bool, int, float, complex, str, bytes]]]], dim: int, apply: bool = True, refresh: bool = False) -> qube.measurement.sweeper.SweepParameter\n",
      " |      The most generic sweep method.\n",
      " |      param: qcodes parameter\n",
      " |      f: function to generate sweep values with a given number of pts. values = f(pts)\n",
      " |      dim: swept dimension\n",
      " |      apply: if it is False, it will be ignored in the sweep, but it will be saved in the database.\n",
      " |          Default is True.\n",
      " |      refresh: if it is False, it won't be applied again if the value is the same as in the previous sweep step.\n",
      " |          Default is False.\n",
      " |  \n",
      " |  sweep_linear(self, param: Union[qcodes.parameters.parameter.Parameter, qcodes.parameters.delegate_parameter.DelegateParameter], init: Any, final: Any, dim: int, apply: bool = True, refresh: bool = False) -> qube.measurement.sweeper.SweepParameter\n",
      " |      Linearly spaced sweep values generated by numpy.linspace(init, final, pts)\n",
      " |      param: qcodes parameter\n",
      " |      init: initial value\n",
      " |      final: final value\n",
      " |      dim: swept dimension\n",
      " |      apply: if it is False, it will be ignored in the sweep, but it will be saved in the database.\n",
      " |          Default is True.\n",
      " |      refresh: if it is False, it won't be applied again if the value is the same as in the previous sweep step.\n",
      " |          Default is False.\n",
      " |  \n",
      " |  sweep_log(self, param: Union[qcodes.parameters.parameter.Parameter, qcodes.parameters.delegate_parameter.DelegateParameter], init: Any, final: Any, dim: int, apply: bool = True, refresh: bool = False) -> qube.measurement.sweeper.SweepParameter\n",
      " |      Log spaced sweep values generated by numpy.logspace(init, final, pts)\n",
      " |      param: qcodes parameter\n",
      " |      init: initial value\n",
      " |      final: final value\n",
      " |      dim: swept dimension\n",
      " |      apply: if it is False, it will be ignored in the sweep, but it will be saved in the database.\n",
      " |          Default is True.\n",
      " |      refresh: if it is False, it won't be applied again if the value is the same as in the previous sweep step.\n",
      " |          Default is False.\n",
      " |  \n",
      " |  sweep_step(self, param: Union[qcodes.parameters.parameter.Parameter, qcodes.parameters.delegate_parameter.DelegateParameter], init: Any, step_size: Any, dim: int, apply: bool = True, refresh: bool = False) -> qube.measurement.sweeper.SweepParameter\n",
      " |      Sweep values with a fixed step_size.\n",
      " |      param: qcodes parameter\n",
      " |      init: initial value\n",
      " |      step_size: value between each swept value\n",
      " |      dim: swept dimension\n",
      " |      apply: if it is False, it will be ignored in the sweep, but it will be saved in the database.\n",
      " |          Default is True.\n",
      " |      refresh: if it is False, it won't be applied again if the value is the same as in the previous sweep step.\n",
      " |          Default is False.\n",
      " |  \n",
      " |  sweep_values(self, param: Union[qcodes.parameters.parameter.Parameter, qcodes.parameters.delegate_parameter.DelegateParameter], values: Union[List, <built-in function array>], dim: int, apply: bool = True, refresh: bool = False) -> qube.measurement.sweeper.SweepParameter\n",
      " |      Custom values to be swept\n",
      " |      param: qcodes parameter\n",
      " |      values: list or np.array of values\n",
      " |      dim: swept dimension\n",
      " |      apply: if it is False, it will be ignored in the sweep, but it will be saved in the database.\n",
      " |          Default is True.\n",
      " |      refresh: if it is False, it won't be applied again if the value is the same as in the previous sweep step.\n",
      " |          Default is False.\n",
      " |  \n",
      " |  wait(self, s: Union[float, int])\n",
      " |  \n",
      " |  ----------------------------------------------------------------------\n",
      " |  Data descriptors defined here:\n",
      " |  \n",
      " |  __dict__\n",
      " |      dictionary for instance variables (if defined)\n",
      " |  \n",
      " |  __weakref__\n",
      " |      list of weak references to the object (if defined)\n",
      "\n"
     ]
    }
   ],
   "source": [
    "help(Sweeper)"
   ]
  },
  {
   "cell_type": "code",
   "execution_count": null,
   "id": "91551426",
   "metadata": {},
   "outputs": [],
   "source": []
  }
 ],
 "metadata": {
  "kernelspec": {
   "display_name": "Python 3 (ipykernel)",
   "language": "python",
   "name": "python3"
  },
  "language_info": {
   "codemirror_mode": {
    "name": "ipython",
    "version": 3
   },
   "file_extension": ".py",
   "mimetype": "text/x-python",
   "name": "python",
   "nbconvert_exporter": "python",
   "pygments_lexer": "ipython3",
   "version": "3.9.7"
  }
 },
 "nbformat": 4,
 "nbformat_minor": 5
}

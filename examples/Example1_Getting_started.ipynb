{
 "cells": [
  {
   "cell_type": "markdown",
   "id": "a68945d0",
   "metadata": {},
   "source": [
    "# Dataset object"
   ]
  },
  {
   "cell_type": "code",
   "execution_count": 1,
   "id": "42833bf9",
   "metadata": {},
   "outputs": [],
   "source": [
    "import numpy as np\n",
    "from datasets import Dataset, Axis"
   ]
  },
  {
   "cell_type": "code",
   "execution_count": 2,
   "id": "f5ae2113",
   "metadata": {},
   "outputs": [
    {
     "data": {
      "text/plain": [
       "name: qpc - unit: nA - shape: (50, 2)\n",
       "axes: 2 elements\n",
       "\t[0] name: counter_dim0 - unit: a.u. - shape: (50,) - dim: 0\n",
       "\t[1] name: counter_dim1 - unit: a.u. - shape: (2,) - dim: 1"
      ]
     },
     "execution_count": 2,
     "metadata": {},
     "output_type": "execute_result"
    }
   ],
   "source": [
    "ds1 = Dataset(\n",
    "    name='qpc',\n",
    "    unit='nA',\n",
    "    value=np.arange(100).reshape(50,2))\n",
    "ds1"
   ]
  },
  {
   "cell_type": "markdown",
   "id": "778c38f2",
   "metadata": {},
   "source": [
    "## Add axis to dataset"
   ]
  },
  {
   "cell_type": "code",
   "execution_count": 3,
   "id": "9aa90479",
   "metadata": {},
   "outputs": [
    {
     "data": {
      "text/plain": [
       "name: qpc - unit: nA - shape: (50, 2)\n",
       "axes: 3 elements\n",
       "\t[0] name: G1 - unit: V - shape: (50,) - dim: 0\n",
       "\t[1] name: counter_dim0 - unit: a.u. - shape: (50,) - dim: 0\n",
       "\t[2] name: counter_dim1 - unit: a.u. - shape: (2,) - dim: 1"
      ]
     },
     "execution_count": 3,
     "metadata": {},
     "output_type": "execute_result"
    }
   ],
   "source": [
    "ax1 = Axis(\n",
    "    name='G1',\n",
    "    unit='V',\n",
    "    value=np.arange(50),\n",
    "    dim=0, # sweeping dimension index\n",
    ")\n",
    "ds1.add_axis(ax1)\n",
    "ds1"
   ]
  },
  {
   "cell_type": "code",
   "execution_count": 4,
   "id": "ce54fea0",
   "metadata": {},
   "outputs": [
    {
     "data": {
      "text/plain": [
       "name: qpc - unit: nA - shape: (50, 2)\n",
       "axes: 3 elements\n",
       "\t[0] name: G1 - unit: V - shape: (50,) - dim: 0\n",
       "\t[1] name: counter_dim0 - unit: a.u. - shape: (50,) - dim: 0\n",
       "\t[2] name: counter_dim1 - unit: a.u. - shape: (2,) - dim: 1"
      ]
     },
     "execution_count": 4,
     "metadata": {},
     "output_type": "execute_result"
    }
   ],
   "source": [
    "ax2 = Axis(\n",
    "    name='G2',\n",
    "    unit='V',\n",
    "    value=np.arange(78), # note that this does not match with ds1.shape (50,2)\n",
    "    dim=0,\n",
    ")\n",
    "ds1.add_axis(ax2) # it will ignore it because it is not a valid axis for this dataset\n",
    "ds1"
   ]
  },
  {
   "cell_type": "code",
   "execution_count": 5,
   "id": "69dc0cc1",
   "metadata": {},
   "outputs": [
    {
     "data": {
      "text/plain": [
       "'qpc (nA)'"
      ]
     },
     "execution_count": 5,
     "metadata": {},
     "output_type": "execute_result"
    }
   ],
   "source": [
    "ds1.label"
   ]
  },
  {
   "cell_type": "markdown",
   "id": "fb5a6f79",
   "metadata": {},
   "source": [
    "# Use plotter\n",
    "You need the following packages:\n",
    "- ipywidgets: pip install ipywidgets (https://ipywidgets.readthedocs.io/en/latest/user_install.html)\n",
    "- ipympl: pip install ipympl (https://github.com/matplotlib/ipympl)"
   ]
  },
  {
   "cell_type": "code",
   "execution_count": 7,
   "id": "005c36bc",
   "metadata": {},
   "outputs": [
    {
     "data": {
      "text/plain": [
       "name: sinus - unit: a.u. - shape: (78,)\n",
       "axes: 1 elements\n",
       "\t[0] name: counter_dim0 - unit: a.u. - shape: (78,) - dim: 0"
      ]
     },
     "execution_count": 7,
     "metadata": {},
     "output_type": "execute_result"
    }
   ],
   "source": [
    "from figures import Plot1D, Plot2D\n",
    "import matplotlib.pyplot as plt\n",
    "%matplotlib widget\n",
    "save_options = {\n",
    "    'folder': '',\n",
    "    'extension': 'png',\n",
    "    'kwargs': {'dpi': 100, 'bbox_inches': 'tight'},\n",
    "}\n",
    "value = np.sin(2*np.pi*ax2.value)\n",
    "ds2 = Dataset(\n",
    "    name='sinus',\n",
    "    value=value)\n",
    "ax2 = Axis(\n",
    "    name='x',\n",
    "    value=np.linspace(-10, 10, 1001),\n",
    "    dim=0)\n",
    "ds2.add_axis(ax2)\n",
    "ds2"
   ]
  },
  {
   "cell_type": "code",
   "execution_count": 8,
   "id": "3910eb53",
   "metadata": {},
   "outputs": [
    {
     "data": {
      "application/vnd.jupyter.widget-view+json": {
       "model_id": "b04b5eea186a487ea1b963a8f6fc255c",
       "version_major": 2,
       "version_minor": 0
      },
      "text/plain": [
       "HBox(children=(Button(description='plot', layout=LayoutGDS(width='100px'), style=ButtonStyle()), Button(descripti…"
      ]
     },
     "metadata": {},
     "output_type": "display_data"
    },
    {
     "data": {
      "application/vnd.jupyter.widget-view+json": {
       "model_id": "ddf64233578a465f99bc96a41f8b31a0",
       "version_major": 2,
       "version_minor": 0
      },
      "text/plain": [
       "VBox(children=(HBox(children=(Dropdown(description='dataset', layout=LayoutGDS(width='200px'), options=('qpc', 's…"
      ]
     },
     "metadata": {},
     "output_type": "display_data"
    },
    {
     "data": {
      "application/vnd.jupyter.widget-view+json": {
       "model_id": "03047eb098f44a30ab2f0460eebf4768",
       "version_major": 2,
       "version_minor": 0
      },
      "text/html": [
       "\n",
       "            <div style=\"display: inline-block;\">\n",
       "                <div class=\"jupyter-widgets widget-label\" style=\"text-align: center;\">\n",
       "                    Figure\n",
       "                </div>\n",
       "                <img src='data:image/png;base64,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' width=640.0/>\n",
       "            </div>\n",
       "        "
      ],
      "text/plain": [
       "Canvas(toolbar=Toolbar(toolitems=[('Home', 'Reset original view', 'home', 'home'), ('Back', 'Back to previous …"
      ]
     },
     "metadata": {},
     "output_type": "display_data"
    }
   ],
   "source": [
    "p1 = Plot1D([ds1,ds2], save_options=save_options, title_prefix='my_plot')"
   ]
  },
  {
   "cell_type": "code",
   "execution_count": 9,
   "id": "55ba3691",
   "metadata": {},
   "outputs": [
    {
     "data": {
      "text/plain": [
       "[<matplotlib.lines.Line2D at 0x28af2da1310>]"
      ]
     },
     "execution_count": 9,
     "metadata": {},
     "output_type": "execute_result"
    }
   ],
   "source": [
    "p1.ax.plot([1,2,3],'o')"
   ]
  },
  {
   "cell_type": "markdown",
   "id": "6264e257",
   "metadata": {},
   "source": [
    "# Datafile"
   ]
  },
  {
   "cell_type": "code",
   "execution_count": 10,
   "id": "297bc533",
   "metadata": {},
   "outputs": [],
   "source": [
    "from datafile import Datafile, load_datafile, load_datasets, save_datasets\n",
    "import os\n",
    "\n",
    "df = Datafile()\n",
    "df.add_dataset(ds1)\n",
    "df.add_dataset(ds2)\n",
    "df.save(\n",
    "    fullpath=os.path.join('test_folder','test_df.json'),\n",
    "    overwrite=True)"
   ]
  },
  {
   "cell_type": "code",
   "execution_count": 11,
   "id": "6bb62dba",
   "metadata": {},
   "outputs": [
    {
     "data": {
      "text/plain": [
       "Datafile\n",
       "fullpath: test_folder\\test_df.json\n",
       "datasets: 2 elements\n",
       "[0] name: qpc - unit: nA - shape: (50, 2)\n",
       "\taxes: 3 elements\n",
       "\t[0] name: G1 - unit: V - shape: (50,) - dim: 0\n",
       "\t[1] name: counter_dim0 - unit: a.u. - shape: (50,) - dim: 0\n",
       "\t[2] name: counter_dim1 - unit: a.u. - shape: (2,) - dim: 1\n",
       "[1] name: sinus - unit: a.u. - shape: (78,)\n",
       "\taxes: 1 elements\n",
       "\t[0] name: counter_dim0 - unit: a.u. - shape: (78,) - dim: 0"
      ]
     },
     "execution_count": 11,
     "metadata": {},
     "output_type": "execute_result"
    }
   ],
   "source": [
    "df"
   ]
  },
  {
   "cell_type": "code",
   "execution_count": 12,
   "id": "0e1ae6f1",
   "metadata": {},
   "outputs": [
    {
     "data": {
      "text/plain": [
       "Datafile\n",
       "fullpath: test_folder\\test_df.json\n",
       "datasets: 2 elements\n",
       "[0] name: qpc - unit: nA - shape: (50, 2)\n",
       "\taxes: 3 elements\n",
       "\t[0] name: G1 - unit: V - shape: (50,) - dim: 0\n",
       "\t[1] name: counter_dim0 - unit: a.u. - shape: (50,) - dim: 0\n",
       "\t[2] name: counter_dim1 - unit: a.u. - shape: (2,) - dim: 1\n",
       "[1] name: sinus - unit: a.u. - shape: (78,)\n",
       "\taxes: 1 elements\n",
       "\t[0] name: counter_dim0 - unit: a.u. - shape: (78,) - dim: 0"
      ]
     },
     "execution_count": 12,
     "metadata": {},
     "output_type": "execute_result"
    }
   ],
   "source": [
    "df2 = load_datafile(os.path.join('test_folder','test_df.json'))\n",
    "df2"
   ]
  },
  {
   "cell_type": "markdown",
   "id": "99a448f6",
   "metadata": {},
   "source": [
    "## Some relevant attributes / features"
   ]
  },
  {
   "cell_type": "code",
   "execution_count": 25,
   "id": "c987c5c6",
   "metadata": {},
   "outputs": [
    {
     "name": "stdout",
     "output_type": "stream",
     "text": [
      "test_folder\\test_df.json\n",
      "test_df\n",
      "test_folder\n",
      "['qpc', 'sinus']\n"
     ]
    }
   ],
   "source": [
    "print(df2.fullpath)\n",
    "print(df2.filename)\n",
    "print(df2.folder)\n",
    "print(df2.ds_names)\n",
    "ds1 = df2['qpc']\n",
    "ds2 = df2['sinus']\n",
    "ds3 = df2.get_dataset('qpc')\n",
    "list_ds = df2.get_datasets_by_name('sin',exact_match=False) # always return a list\n",
    "\n"
   ]
  },
  {
   "cell_type": "code",
   "execution_count": 60,
   "id": "3768c662",
   "metadata": {},
   "outputs": [
    {
     "data": {
      "text/plain": [
       "['__class__',\n",
       " '__delattr__',\n",
       " '__dict__',\n",
       " '__dir__',\n",
       " '__doc__',\n",
       " '__eq__',\n",
       " '__format__',\n",
       " '__ge__',\n",
       " '__getattribute__',\n",
       " '__getitem__',\n",
       " '__gt__',\n",
       " '__hash__',\n",
       " '__init__',\n",
       " '__init_subclass__',\n",
       " '__iter__',\n",
       " '__le__',\n",
       " '__lt__',\n",
       " '__module__',\n",
       " '__ne__',\n",
       " '__new__',\n",
       " '__next__',\n",
       " '__reduce__',\n",
       " '__reduce_ex__',\n",
       " '__repr__',\n",
       " '__setattr__',\n",
       " '__sizeof__',\n",
       " '__str__',\n",
       " '__subclasshook__',\n",
       " '__weakref__',\n",
       " 'add_dataset',\n",
       " 'add_datasets',\n",
       " 'clear_datasets',\n",
       " 'datasets',\n",
       " 'ds_names',\n",
       " 'filename',\n",
       " 'folder',\n",
       " 'fullpath',\n",
       " 'get_dataset',\n",
       " 'get_datasets_by_name',\n",
       " 'get_json_path',\n",
       " 'get_npz_path',\n",
       " 'load',\n",
       " 'load_json',\n",
       " 'load_npz',\n",
       " 'remove_dataset',\n",
       " 'remove_datasets_by_name',\n",
       " 'save',\n",
       " 'save_json',\n",
       " 'save_npz',\n",
       " 'set_fullpath']"
      ]
     },
     "execution_count": 60,
     "metadata": {},
     "output_type": "execute_result"
    }
   ],
   "source": [
    "dir(df2)"
   ]
  },
  {
   "cell_type": "code",
   "execution_count": null,
   "id": "335e9007",
   "metadata": {},
   "outputs": [],
   "source": []
  }
 ],
 "metadata": {
  "kernelspec": {
   "display_name": "Python 3 (ipykernel)",
   "language": "python",
   "name": "python3"
  },
  "language_info": {
   "codemirror_mode": {
    "name": "ipython",
    "version": 3
   },
   "file_extension": ".py",
   "mimetype": "text/x-python",
   "name": "python",
   "nbconvert_exporter": "python",
   "pygments_lexer": "ipython3",
   "version": "3.9.7"
  }
 },
 "nbformat": 4,
 "nbformat_minor": 5
}

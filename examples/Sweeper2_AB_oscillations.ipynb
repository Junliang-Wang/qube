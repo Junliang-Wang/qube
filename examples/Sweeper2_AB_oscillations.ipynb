{
 "cells": [
  {
   "cell_type": "markdown",
   "id": "1c4a97ad",
   "metadata": {},
   "source": [
    "# Tutorial about Sweeper: AB oscillations"
   ]
  },
  {
   "cell_type": "markdown",
   "id": "d4e822bc",
   "metadata": {},
   "source": [
    "## Basic imports"
   ]
  },
  {
   "cell_type": "code",
   "execution_count": 1,
   "id": "ac7cc0af",
   "metadata": {},
   "outputs": [
    {
     "name": "stdout",
     "output_type": "stream",
     "text": [
      "Logging hadn't been started.\n",
      "Activating auto-logging. Current session state plus future input saved.\n",
      "Filename       : C:\\Users\\manip.batm\\.qcodes\\logs\\command_history.log\n",
      "Mode           : append\n",
      "Output logging : True\n",
      "Raw input log  : False\n",
      "Timestamping   : True\n",
      "State          : active\n",
      "Qcodes Logfile : C:\\Users\\manip.batm\\.qcodes\\logs\\230308-22600-qcodes.log\n"
     ]
    }
   ],
   "source": [
    "import sys, os\n",
    "import tempfile\n",
    "import numpy as np\n",
    "import matplotlib.pyplot as plt\n",
    "from qcodes import Parameter, DelegateParameter, initialise_or_create_database_at, load_or_create_experiment, load_by_id\n",
    "\n",
    "# Let's create a dummy qcodes database\n",
    "db_path = os.path.join(tempfile.gettempdir(),'test.db')\n",
    "initialise_or_create_database_at(db_path)\n",
    "experiment = load_or_create_experiment(experiment_name='test',sample_name='no sample')"
   ]
  },
  {
   "cell_type": "code",
   "execution_count": 2,
   "id": "72fccef5",
   "metadata": {},
   "outputs": [
    {
     "data": {
      "text/plain": [
       "(<Figure size 800x400 with 1 Axes>, <Axes: >)"
      ]
     },
     "execution_count": 2,
     "metadata": {},
     "output_type": "execute_result"
    },
    {
     "data": {
      "image/png": "[encoded data removed]",
      "text/plain": [
       "<Figure size 800x400 with 1 Axes>"
      ]
     },
     "metadata": {},
     "output_type": "display_data"
    }
   ],
   "source": [
    "import qube\n",
    "from qube.layout.gds import LayoutGDS, ConfigShapes\n",
    "layout = LayoutGDS(\n",
    "    gdspath=os.path.join('gds','AB.gds'),\n",
    "    content=None,\n",
    ")\n",
    "labels = ['B_field','VU','TCW','VL']\n",
    "texts = layout.view.texts\n",
    "for ti, label in zip(texts, labels):\n",
    "    ti.label = label\n",
    "layout.plot()"
   ]
  },
  {
   "cell_type": "markdown",
   "id": "faf91b3d",
   "metadata": {},
   "source": [
    "## Create parameters"
   ]
  },
  {
   "cell_type": "code",
   "execution_count": 3,
   "id": "b0fc35fc",
   "metadata": {},
   "outputs": [],
   "source": [
    "# Let's create some dummy parameters\n",
    "from qcodes.validators import Numbers, Bool\n",
    "\n",
    "VU = Parameter('VU', unit='V', set_cmd=None, get_cmd=None, initial_value=0, vals=Numbers(-2, 0)) \n",
    "VL = Parameter('VL', unit='V', set_cmd=None, get_cmd=None, initial_value=0, vals=Numbers(-2, 0)) \n",
    "TCW = Parameter('TCW', unit='V', set_cmd=None, get_cmd=None, initial_value=0, vals=Numbers(-2, 0))\n",
    "B = Parameter('B_field', unit='T', set_cmd=None, get_cmd=None, initial_value=0, vals=Numbers(-2, 2))\n",
    "\n",
    "IU = Parameter('I_up', unit='pA', set_cmd=None, get_cmd=lambda: 0) # always returns 0\n",
    "IL = Parameter('I_low', unit='pA', set_cmd=None, get_cmd=np.random.random) # random number"
   ]
  },
  {
   "cell_type": "markdown",
   "id": "e66a367c",
   "metadata": {},
   "source": [
    "## Sweep B vs (VU and VL, both at the same time)"
   ]
  },
  {
   "cell_type": "markdown",
   "id": "05519e75",
   "metadata": {},
   "source": [
    "### Simple example"
   ]
  },
  {
   "cell_type": "code",
   "execution_count": 4,
   "id": "cd197673",
   "metadata": {},
   "outputs": [
    {
     "name": "stdout",
     "output_type": "stream",
     "text": [
      "Starting experimental run with id: 63. \n",
      "The measurement will take 0:00:00\n"
     ]
    },
    {
     "data": {
      "application/vnd.jupyter.widget-view+json": {
       "model_id": "10a45e946c174c34a92935f95cbbb72a",
       "version_major": 2,
       "version_minor": 0
      },
      "text/plain": [
       "  0%|          | 0/700 [00:00<?, ?it/s]"
      ]
     },
     "metadata": {},
     "output_type": "display_data"
    }
   ],
   "source": [
    "from qube.measurement.sweeper import Sweeper\n",
    "sw = Sweeper()\n",
    "\" Sweep first B and then VU and VL at the same time \"\n",
    "sw.sweep_linear(B,-1,1,dim=1) \n",
    "sw.sweep_linear(VU,-0.5,-1.0,dim=2) \n",
    "sw.sweep_linear(VL,-0.5,-1.0,dim=2) \n",
    "\n",
    "\" Set readouts \"\n",
    "sw.set_readouts(IU,IL)\n",
    "\n",
    "\" Points to sweep with 20 repetitions\"\n",
    "sw.set_sweep_shape([5,7,20]) \n",
    "\n",
    "\" Execute sweep \"\n",
    "run_id = sw.execute() # it returns the run_id"
   ]
  },
  {
   "cell_type": "markdown",
   "id": "7b372861",
   "metadata": {},
   "source": [
    "## Types of sweep instructions\n",
    "There are few pre-determined types:\n",
    "\n",
    "- .sweep_linear(param, init, final, dim)\n",
    "- .sweep_log(param, init, final, dim)\n",
    "- .sweep_step(param, init, step_size, dim)\n",
    "- .sweep_values(param, values, dim)\n",
    "- .sweep_custom(param, f, dim) --> f is a function to generate sweep values with a given number of pts. values = f(pts)"
   ]
  },
  {
   "cell_type": "markdown",
   "id": "a12e09d3",
   "metadata": {},
   "source": [
    "### Same but with more customized execution"
   ]
  },
  {
   "cell_type": "code",
   "execution_count": 5,
   "id": "4b7624c0",
   "metadata": {},
   "outputs": [
    {
     "name": "stdout",
     "output_type": "stream",
     "text": [
      "Start sweep!\n",
      "Starting experimental run with id: 64. \n",
      "The measurement will take 0:00:02.157626\n"
     ]
    },
    {
     "data": {
      "application/vnd.jupyter.widget-view+json": {
       "model_id": "ae3e9774d7be41799de27d80b44338f5",
       "version_major": 2,
       "version_minor": 0
      },
      "text/plain": [
       "  0%|          | 0/70 [00:00<?, ?it/s]"
      ]
     },
     "metadata": {},
     "output_type": "display_data"
    },
    {
     "name": "stdout",
     "output_type": "stream",
     "text": [
      "End sweep!\n"
     ]
    }
   ],
   "source": [
    "sw = Sweeper()\n",
    "\" Set static conditions before and after sweep \"\n",
    "static = {\n",
    "    VU:-0.3,\n",
    "    VL:-0.3,\n",
    "    TCW:-0.75,\n",
    "    B:0,\n",
    "}\n",
    "sw.set_start_at(static)\n",
    "sw.set_return_to(static) # return to same condition in this example\n",
    "\n",
    "\" Sweep first B and then VU and VL at the same time \"\n",
    "sw.sweep_linear(B,-1,1,dim=1) \n",
    "sw.sweep_linear(VU,-0.5,-1.0,dim=2) \n",
    "sw.sweep_linear(VL,-0.5,-1.0,dim=2) \n",
    "\n",
    "\" Set readouts \"\n",
    "sw.set_readouts(IU,IL)\n",
    "sw.pre_readout_wait = 0.01 # s (optional)\n",
    "sw.post_readout_wait = 0.01 # s (optional)\n",
    "\n",
    "\" Add some pre and post process custom functions \"\n",
    "sw.add_pre_process(lambda: print('Start sweep!'))\n",
    "sw.add_post_process(lambda: print('End sweep!'))\n",
    "sw.pre_process_wait = 0.5 #s\n",
    "sw.post_process_wait = 0.5 #s\n",
    "\n",
    "\" Add some pre and post readout custom functions \"\n",
    "# sw.add_pre_readout(lambda: print('pre-readout'))\n",
    "# sw.add_post_readout(lambda: print('post-readout'))\n",
    "\n",
    "\" Points to sweep with 2 repetitions\"\n",
    "sw.set_sweep_shape([5,7,2]) \n",
    "\n",
    "\" Execute sweep \"\n",
    "run_id = sw.execute() # it returns the run_id"
   ]
  },
  {
   "cell_type": "markdown",
   "id": "2abd5621",
   "metadata": {},
   "source": [
    "### Execution sequence"
   ]
  },
  {
   "cell_type": "code",
   "execution_count": 6,
   "id": "8b9aff20",
   "metadata": {},
   "outputs": [
    {
     "name": "stdout",
     "output_type": "stream",
     "text": [
      "Help on function execute in module qube.measurement.sweeper:\n",
      "\n",
      "execute(self, test_run=False, **kwargs) -> int\n",
      "    Sweep execution with the following order:\n",
      "    1. Go to start_at\n",
      "    2. Apply pre_process + wait\n",
      "    3. Save initial static {param: value}\n",
      "    4. Enter sweep loop\n",
      "        4.1 Apply {param: value}\n",
      "        4.2 Apply pre_readout + wait\n",
      "        4.3 Readout + save\n",
      "        4.4 Apply post_readout + wait\n",
      "        4.5 Execute callback\n",
      "        4.5 Go to next index and repeat from 4.1 until finish all steps\n",
      "    5. Apply post_process + wait\n",
      "    7. Go to return_to\n",
      "    8. Save final static {param: value}\n",
      "    \n",
      "    kwargs:\n",
      "        test_run: if it is True, it will execute the sweep without changing any parameter nor readout.\n",
      "        Rest of kwargs are the same as .set_config\n",
      "    \n",
      "    Returns:\n",
      "        datasaver.run_id\n",
      "\n"
     ]
    }
   ],
   "source": [
    "help(Sweeper.execute)"
   ]
  },
  {
   "cell_type": "markdown",
   "id": "b7eed986",
   "metadata": {},
   "source": [
    "### Alternative way to do the same (although not recommended)"
   ]
  },
  {
   "cell_type": "code",
   "execution_count": 7,
   "id": "578004e6",
   "metadata": {},
   "outputs": [
    {
     "name": "stdout",
     "output_type": "stream",
     "text": [
      "Start sweep!\n",
      "Starting experimental run with id: 65. \n",
      "The measurement will take 0:00:02.181738\n"
     ]
    },
    {
     "data": {
      "application/vnd.jupyter.widget-view+json": {
       "model_id": "b9b96c07127c46daa5c579cc74280be6",
       "version_major": 2,
       "version_minor": 0
      },
      "text/plain": [
       "  0%|          | 0/70 [00:00<?, ?it/s]"
      ]
     },
     "metadata": {},
     "output_type": "display_data"
    },
    {
     "name": "stdout",
     "output_type": "stream",
     "text": [
      "End sweep!\n"
     ]
    },
    {
     "data": {
      "text/plain": [
       "65"
      ]
     },
     "execution_count": 7,
     "metadata": {},
     "output_type": "execute_result"
    }
   ],
   "source": [
    "sw = Sweeper()\n",
    "sw.set_config(\n",
    "    instructions=[\n",
    "        [1, B, np.linspace(-1,1,5)],\n",
    "        [2, VU, np.linspace(-0.5,-1.0,7)],\n",
    "        [2, VL, np.linspace(-0.5,-1.0,7)],\n",
    "        [3, None, 2],\n",
    "    ],\n",
    "#     sweep_shape=[5,7,2],\n",
    "    start_at=static,\n",
    "    return_to=static,\n",
    "    readouts=[IU,IL],\n",
    "    pre_readout_wait=0.01, # s\n",
    "    post_readout_wait=0.01, # s\n",
    "    pre_process = [lambda: print('Start sweep!'),],\n",
    "    post_process = [lambda: print('End sweep!'),],\n",
    "    pre_process_wait = 0.5, #s\n",
    "    post_process_wait = 0.5, #s\n",
    ")\n",
    "\n",
    "sw.execute(\n",
    "    test_run=False,\n",
    ")"
   ]
  },
  {
   "cell_type": "markdown",
   "id": "fe1b32ff",
   "metadata": {},
   "source": [
    "### Re-use sweeper: keep pre/post process/readout, wait times, etc..."
   ]
  },
  {
   "cell_type": "code",
   "execution_count": 8,
   "id": "00d337a5",
   "metadata": {},
   "outputs": [
    {
     "name": "stdout",
     "output_type": "stream",
     "text": [
      "Start sweep!\n",
      "Starting experimental run with id: 66. \n",
      "The measurement will take 0:00:01.714180\n"
     ]
    },
    {
     "data": {
      "application/vnd.jupyter.widget-view+json": {
       "model_id": "9cfb2cd216924c7abb40177b9d93baee",
       "version_major": 2,
       "version_minor": 0
      },
      "text/plain": [
       "  0%|          | 0/55 [00:00<?, ?it/s]"
      ]
     },
     "metadata": {},
     "output_type": "display_data"
    },
    {
     "name": "stdout",
     "output_type": "stream",
     "text": [
      "End sweep!\n"
     ]
    }
   ],
   "source": [
    "sw.clear_instructions()\n",
    "sw.sweep_step(B,0,0.01,dim=1) \n",
    "sw.sweep_linear(TCW,-0.2,-1.0,dim=2) \n",
    "\n",
    "sw.set_sweep_shape([11,5]) \n",
    "run_id = sw.execute()"
   ]
  },
  {
   "cell_type": "markdown",
   "id": "ec553642",
   "metadata": {},
   "source": [
    "## Load data from a sweep"
   ]
  },
  {
   "cell_type": "code",
   "execution_count": 9,
   "id": "e1fef1fa",
   "metadata": {},
   "outputs": [
    {
     "name": "stdout",
     "output_type": "stream",
     "text": [
      "{'B_field': array([0.  , 0.01, 0.02, 0.03, 0.04, 0.05, 0.06, 0.07, 0.08, 0.09, 0.1 ])}\n",
      "{'TCW': array([-0.2, -0.4, -0.6, -0.8, -1. ])}\n"
     ]
    }
   ],
   "source": [
    "\" We can checkout the data in the qcodes database \"\n",
    "ds = load_by_id(run_id)\n",
    "\n",
    "\" We can access for example to the swept values \"\n",
    "print(ds.get_parameter_data()['B_field'])\n",
    "print(ds.get_parameter_data()['TCW'])"
   ]
  },
  {
   "cell_type": "code",
   "execution_count": 10,
   "id": "60848359",
   "metadata": {},
   "outputs": [
    {
     "name": "stdout",
     "output_type": "stream",
     "text": [
      "dict_keys(['B_field', 'I_low', 'I_up', 'TCW', 'VL', 'VU', 'static_isbools', 'static_labels', 'static_names', 'static_units', 'static_values_final', 'static_values_init', 'sweep_axes_full_names', 'sweep_axes_isbools', 'sweep_axes_names', 'sweep_dims', 'sweep_note', 'sweep_readouts_dim0s', 'sweep_readouts_full_names', 'sweep_readouts_names', 'sweep_shape'])\n"
     ]
    }
   ],
   "source": [
    "print(ds.get_parameter_data().keys())"
   ]
  },
  {
   "cell_type": "code",
   "execution_count": 11,
   "id": "0e0c692e",
   "metadata": {},
   "outputs": [
    {
     "name": "stdout",
     "output_type": "stream",
     "text": [
      "{'I_up': array([0., 0., 0., 0., 0., 0., 0., 0., 0., 0., 0., 0., 0., 0., 0., 0., 0.,\n",
      "       0., 0., 0., 0., 0., 0., 0., 0., 0., 0., 0., 0., 0., 0., 0., 0., 0.,\n",
      "       0., 0., 0., 0., 0., 0., 0., 0., 0., 0., 0., 0., 0., 0., 0., 0., 0.,\n",
      "       0., 0., 0., 0.])}\n",
      "{'I_low': array([0.72269487, 0.96340627, 0.05565561, 0.50101475, 0.88148158,\n",
      "       0.11886625, 0.53676028, 0.17674645, 0.90140759, 0.42890557,\n",
      "       0.43554338, 0.59259237, 0.72204833, 0.02407021, 0.29882343,\n",
      "       0.08621168, 0.01547459, 0.32962521, 0.49186312, 0.98639727,\n",
      "       0.84168115, 0.55184299, 0.26962611, 0.92465781, 0.81484069,\n",
      "       0.02052076, 0.9105961 , 0.23350924, 0.14262012, 0.3421065 ,\n",
      "       0.53528383, 0.39794875, 0.9715241 , 0.0370272 , 0.40862199,\n",
      "       0.19474054, 0.36778436, 0.55593507, 0.35850876, 0.46396904,\n",
      "       0.22038138, 0.5121366 , 0.6613341 , 0.62023652, 0.49014759,\n",
      "       0.51341056, 0.62433077, 0.24866644, 0.82657283, 0.92380072,\n",
      "       0.51285812, 0.67169844, 0.64652069, 0.80867059, 0.17920507])}\n"
     ]
    }
   ],
   "source": [
    "\" Or the readout values of readouts \"\n",
    "print(ds.get_parameter_data()['I_up'])\n",
    "print(ds.get_parameter_data()['I_low'])"
   ]
  },
  {
   "cell_type": "markdown",
   "id": "5d2814a2",
   "metadata": {},
   "source": [
    "## Better way to load all the information"
   ]
  },
  {
   "cell_type": "code",
   "execution_count": 12,
   "id": "bb6ebcc3",
   "metadata": {},
   "outputs": [
    {
     "name": "stdout",
     "output_type": "stream",
     "text": [
      "Datafile\n",
      "fullpath: None\n",
      "statics: 2 elements (keys: ['init', 'final'])\n",
      "datasets: 2 elements\n",
      "[0] name: I_up - unit: pA - shape: (11, 5)\n",
      "\taxes: 4 elements\n",
      "\t[0] name: B_field - unit: T - shape: (11,) - dim: 0\n",
      "\t[1] name: TCW - unit: V - shape: (5,) - dim: 1\n",
      "\t[2] name: counter_dim0 - unit: a.u. - shape: (11,) - dim: 0\n",
      "\t[3] name: counter_dim1 - unit: a.u. - shape: (5,) - dim: 1\n",
      "[1] name: I_low - unit: pA - shape: (11, 5)\n",
      "\taxes: 4 elements\n",
      "\t[0] name: B_field - unit: T - shape: (11,) - dim: 0\n",
      "\t[1] name: TCW - unit: V - shape: (5,) - dim: 1\n",
      "\t[2] name: counter_dim0 - unit: a.u. - shape: (11,) - dim: 0\n",
      "\t[3] name: counter_dim1 - unit: a.u. - shape: (5,) - dim: 1\n"
     ]
    }
   ],
   "source": [
    "from qube.measurement.content import qcodes_to_datafile, run_id_to_datafile\n",
    "df = run_id_to_datafile(run_id)\n",
    "print(df) "
   ]
  },
  {
   "cell_type": "code",
   "execution_count": 13,
   "id": "8c7b5b79",
   "metadata": {},
   "outputs": [
    {
     "data": {
      "text/plain": [
       "{'init': [Static - name: B_field - unit: T - value: 0.0,\n",
       "  Static - name: VU - unit: V - value: -0.3,\n",
       "  Static - name: VL - unit: V - value: -0.3,\n",
       "  Static - name: TCW - unit: V - value: -0.75],\n",
       " 'final': [Static - name: B_field - unit: T - value: 0.0,\n",
       "  Static - name: VU - unit: V - value: -0.3,\n",
       "  Static - name: VL - unit: V - value: -0.3,\n",
       "  Static - name: TCW - unit: V - value: -0.75]}"
      ]
     },
     "execution_count": 13,
     "metadata": {},
     "output_type": "execute_result"
    }
   ],
   "source": [
    "df.statics"
   ]
  },
  {
   "cell_type": "markdown",
   "id": "d1bd8a4b",
   "metadata": {},
   "source": [
    "## Let's explore the static configurations\n",
    "\n",
    "We will use a SweeperContent instance which is the engine behind run_id_to_datafile."
   ]
  },
  {
   "cell_type": "code",
   "execution_count": 14,
   "id": "4d0a765e",
   "metadata": {},
   "outputs": [
    {
     "data": {
      "text/plain": [
       "{'init': [Static - name: B_field - unit: T - value: 0.0,\n",
       "  Static - name: VU - unit: V - value: -0.3,\n",
       "  Static - name: VL - unit: V - value: -0.3,\n",
       "  Static - name: TCW - unit: V - value: -0.75],\n",
       " 'final': [Static - name: B_field - unit: T - value: 0.0,\n",
       "  Static - name: VU - unit: V - value: -0.3,\n",
       "  Static - name: VL - unit: V - value: -0.3,\n",
       "  Static - name: TCW - unit: V - value: -0.75]}"
      ]
     },
     "execution_count": 14,
     "metadata": {},
     "output_type": "execute_result"
    }
   ],
   "source": [
    "from qube.measurement.content import SweeperContent\n",
    "ds = load_by_id(run_id)\n",
    "cont = SweeperContent(ds)\n",
    "cont.statics"
   ]
  },
  {
   "cell_type": "code",
   "execution_count": 15,
   "id": "e487a5b6",
   "metadata": {},
   "outputs": [
    {
     "data": {
      "text/plain": [
       "[Axis - name: B_field - unit: T - shape: (11,) - dim: 0,\n",
       " Axis - name: TCW - unit: V - shape: (5,) - dim: 1,\n",
       " Axis - name: counter_dim0 - unit: a.u. - shape: (11,) - dim: 0,\n",
       " Axis - name: counter_dim1 - unit: a.u. - shape: (5,) - dim: 1]"
      ]
     },
     "execution_count": 15,
     "metadata": {},
     "output_type": "execute_result"
    }
   ],
   "source": [
    "cont.axes"
   ]
  },
  {
   "cell_type": "code",
   "execution_count": 16,
   "id": "41b61593",
   "metadata": {},
   "outputs": [
    {
     "data": {
      "text/plain": [
       "[name: I_up - unit: pA - shape: (11, 5)\n",
       " axes: 4 elements\n",
       " \t[0] name: B_field - unit: T - shape: (11,) - dim: 0\n",
       " \t[1] name: TCW - unit: V - shape: (5,) - dim: 1\n",
       " \t[2] name: counter_dim0 - unit: a.u. - shape: (11,) - dim: 0\n",
       " \t[3] name: counter_dim1 - unit: a.u. - shape: (5,) - dim: 1,\n",
       " name: I_low - unit: pA - shape: (11, 5)\n",
       " axes: 4 elements\n",
       " \t[0] name: B_field - unit: T - shape: (11,) - dim: 0\n",
       " \t[1] name: TCW - unit: V - shape: (5,) - dim: 1\n",
       " \t[2] name: counter_dim0 - unit: a.u. - shape: (11,) - dim: 0\n",
       " \t[3] name: counter_dim1 - unit: a.u. - shape: (5,) - dim: 1]"
      ]
     },
     "execution_count": 16,
     "metadata": {},
     "output_type": "execute_result"
    }
   ],
   "source": [
    "cont.datasets"
   ]
  },
  {
   "cell_type": "code",
   "execution_count": 17,
   "id": "a34d08e7",
   "metadata": {},
   "outputs": [
    {
     "data": {
      "image/png": "[encoded data removed]",
      "text/plain": [
       "<Figure size 800x400 with 1 Axes>"
      ]
     },
     "metadata": {},
     "output_type": "display_data"
    }
   ],
   "source": [
    "from qube.layout.gds import LayoutGDS, ConfigShapes\n",
    "layout = LayoutGDS(\n",
    "    gdspath=os.path.join('gds','AB.gds'),\n",
    "    content=cont,\n",
    "    gdsconfig=ConfigShapes(os.path.join('gds','AB.ini'))\n",
    ")\n",
    "layout.apply_content_to_view()\n",
    "fig, ax = layout.plot()"
   ]
  },
  {
   "cell_type": "code",
   "execution_count": null,
   "id": "08da0f78",
   "metadata": {},
   "outputs": [],
   "source": []
  }
 ],
 "metadata": {
  "kernelspec": {
   "display_name": "Python 3 (ipykernel)",
   "language": "python",
   "name": "python3"
  },
  "language_info": {
   "codemirror_mode": {
    "name": "ipython",
    "version": 3
   },
   "file_extension": ".py",
   "mimetype": "text/x-python",
   "name": "python",
   "nbconvert_exporter": "python",
   "pygments_lexer": "ipython3",
   "version": "3.9.7"
  }
 },
 "nbformat": 4,
 "nbformat_minor": 5
}
